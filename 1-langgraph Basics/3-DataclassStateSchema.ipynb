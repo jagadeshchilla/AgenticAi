{
 "cells": [
  {
   "cell_type": "markdown",
   "metadata": {},
   "source": [
    "### State Schema With DataClasses\n",
    "When we define a LangGraph StateGraph, we use a state schema.\n",
    "\n",
    "The state schema represents the structure and types of data that our graph will use.\n",
    "\n",
    "All nodes are expected to communicate with that schema.\n",
    "\n",
    "LangGraph offers flexibility in how you define your state schema, accommodating various Python types and validation approaches!\n"
   ]
  },
  {
   "cell_type": "markdown",
   "metadata": {},
   "source": [
    " we can use the TypedDict class from python's typing module.\n",
    "\n",
    "It allows you to specify keys and their corresponding value types.\n",
    "\n",
    "But, note that these are type hints.\n",
    "\n",
    "They can be used by static type checkers (like mypy) or IDEs to catch potential type-related errors before the code is run.\n",
    "\n",
    "But they are not enforced at runtime!"
   ]
  },
  {
   "cell_type": "code",
   "execution_count": 8,
   "metadata": {},
   "outputs": [],
   "source": [
    "from typing_extensions import TypedDict\n",
    "from typing import Literal\n",
    "\n",
    "class TypedDictState(TypedDict):\n",
    "    name:str\n",
    "    game:Literal[\"cricket\",\"badminton\"]\n",
    "\n",
    "    \n"
   ]
  },
  {
   "cell_type": "code",
   "execution_count": 9,
   "metadata": {},
   "outputs": [],
   "source": [
    "def play_game(state:TypedDictState):\n",
    "    print(\"---Play Game node has been called--\")\n",
    "    return {\"name\":state['name'] + \" want to play \"}\n",
    "\n",
    "def cricket(state:TypedDictState):\n",
    "    print(\"-- Cricket node has been called--\")\n",
    "    return {\"name\":state[\"name\"] + \" cricket\",\"game\":\"cricket\"}\n",
    "\n",
    "def badminton(state:TypedDictState):\n",
    "    print(\"-- badminton node has been called--\")\n",
    "    return {\"name\":state[\"name\"] + \" badminton\",\"game\":\"badminton\"}"
   ]
  },
  {
   "cell_type": "code",
   "execution_count": 10,
   "metadata": {},
   "outputs": [],
   "source": [
    "import random\n",
    "def decide_play(state:TypedDictState)->Literal[\"cricket\",\"badminton\"]:\n",
    "    # Here, let's just do a 50 / 50 split between nodes 2, 3\n",
    "    if random.random() < 0.5:\n",
    "        return \"cricket\"\n",
    "    else:\n",
    "        return \"badminton\""
   ]
  },
  {
   "cell_type": "code",
   "execution_count": 11,
   "metadata": {},
   "outputs": [
    {
     "data": {
      "image/png": "[encoded data removed]",
      "text/plain": [
       "<IPython.core.display.Image object>"
      ]
     },
     "metadata": {},
     "output_type": "display_data"
    }
   ],
   "source": [
    "\n",
    "from IPython.display import Image, display\n",
    "from langgraph.graph import StateGraph, START, END\n",
    "\n",
    "builder=StateGraph(TypedDictState)\n",
    "builder.add_node(\"playgame\",play_game)\n",
    "builder.add_node(\"cricket\",cricket)\n",
    "builder.add_node(\"badminton\",badminton)\n",
    "\n",
    "## Flow of the graph\n",
    "\n",
    "builder.add_edge(START,\"playgame\")\n",
    "builder.add_conditional_edges(\"playgame\",decide_play)\n",
    "builder.add_edge(\"cricket\",END)\n",
    "builder.add_edge(\"badminton\",END)\n",
    "\n",
    "# Add\n",
    "graph = builder.compile()\n",
    "\n",
    "# View\n",
    "display(Image(graph.get_graph().draw_mermaid_png()))\n"
   ]
  },
  {
   "cell_type": "code",
   "execution_count": 12,
   "metadata": {},
   "outputs": [
    {
     "name": "stdout",
     "output_type": "stream",
     "text": [
      "---Play Game node has been called--\n",
      "-- Cricket node has been called--\n"
     ]
    },
    {
     "data": {
      "text/plain": [
       "{'name': 'jagadesh want to play  cricket', 'game': 'cricket'}"
      ]
     },
     "execution_count": 12,
     "metadata": {},
     "output_type": "execute_result"
    }
   ],
   "source": [
    "graph.invoke({\"name\":\"jagadesh\"})"
   ]
  },
  {
   "cell_type": "code",
   "execution_count": 13,
   "metadata": {},
   "outputs": [
    {
     "name": "stdout",
     "output_type": "stream",
     "text": [
      "---Play Game node has been called--\n",
      "-- Cricket node has been called--\n"
     ]
    },
    {
     "data": {
      "text/plain": [
       "{'name': '123 want to play  cricket', 'game': 'cricket'}"
      ]
     },
     "execution_count": 13,
     "metadata": {},
     "output_type": "execute_result"
    }
   ],
   "source": [
    "graph.invoke({\"name\":\"123\"})"
   ]
  },
  {
   "cell_type": "code",
   "execution_count": 14,
   "metadata": {},
   "outputs": [],
   "source": [
    "### Pydantic (Python )"
   ]
  },
  {
   "cell_type": "markdown",
   "metadata": {},
   "source": [
    "### Dataclasses\n",
    "Python's dataclasses provide another way to define structured data.\n",
    "\n",
    "Dataclasses offer a concise syntax for creating classes that are primarily used to store data."
   ]
  },
  {
   "cell_type": "code",
   "execution_count": 15,
   "metadata": {},
   "outputs": [],
   "source": [
    "### DataClasses\n",
    "\n",
    "from dataclasses import dataclass\n",
    "\n",
    "@dataclass\n",
    "class DataClassState:\n",
    "    name:str\n",
    "    game:Literal[\"badminton\",\"cricket\"]"
   ]
  },
  {
   "cell_type": "code",
   "execution_count": 16,
   "metadata": {},
   "outputs": [],
   "source": [
    "def play_game(state:DataClassState):\n",
    "    print(\"---Play Game node has been called--\")\n",
    "    return {\"name\":state.name + \" want to play \"}\n",
    "\n",
    "def cricket(state:DataClassState):\n",
    "    print(\"-- Cricket node has been called--\")\n",
    "    return {\"name\":state.name + \" cricket\",\"game\":\"cricket\"}\n",
    "\n",
    "def badminton(state:DataClassState):\n",
    "    print(\"-- badminton node has been called--\")\n",
    "    return {\"name\":state.name + \" badminton\",\"game\":\"badminton\"}"
   ]
  },
  {
   "cell_type": "code",
   "execution_count": 17,
   "metadata": {},
   "outputs": [],
   "source": [
    "import random\n",
    "def decide_play(state:DataClassState)->Literal[\"cricket\",\"badminton\"]:\n",
    "    # Here, let's just do a 50 / 50 split between nodes 2, 3\n",
    "    if random.random() < 0.5:\n",
    "        return \"cricket\"\n",
    "    else:\n",
    "        return \"badminton\""
   ]
  },
  {
   "cell_type": "code",
   "execution_count": 18,
   "metadata": {},
   "outputs": [
    {
     "data": {
      "image/png": "[encoded data removed]",
      "text/plain": [
       "<IPython.core.display.Image object>"
      ]
     },
     "metadata": {},
     "output_type": "display_data"
    }
   ],
   "source": [
    "\n",
    "builder=StateGraph(DataClassState)\n",
    "builder.add_node(\"playgame\",play_game)\n",
    "builder.add_node(\"cricket\",cricket)\n",
    "builder.add_node(\"badminton\",badminton)\n",
    "\n",
    "## Flow of the graph\n",
    "\n",
    "builder.add_edge(START,\"playgame\")\n",
    "builder.add_conditional_edges(\"playgame\",decide_play)\n",
    "builder.add_edge(\"cricket\",END)\n",
    "builder.add_edge(\"badminton\",END)\n",
    "\n",
    "# Add\n",
    "graph = builder.compile()\n",
    "\n",
    "# View\n",
    "display(Image(graph.get_graph().draw_mermaid_png()))"
   ]
  },
  {
   "cell_type": "code",
   "execution_count": 21,
   "metadata": {},
   "outputs": [
    {
     "name": "stdout",
     "output_type": "stream",
     "text": [
      "---Play Game node has been called--\n",
      "-- Cricket node has been called--\n"
     ]
    },
    {
     "data": {
      "text/plain": [
       "{'name': 'jagadesh want to play  cricket', 'game': 'cricket'}"
      ]
     },
     "execution_count": 21,
     "metadata": {},
     "output_type": "execute_result"
    }
   ],
   "source": [
    "graph.invoke(DataClassState(name=\"jagadesh\",game=\"cricket\"))"
   ]
  },
  {
   "cell_type": "code",
   "execution_count": 22,
   "metadata": {},
   "outputs": [
    {
     "name": "stdout",
     "output_type": "stream",
     "text": [
      "---Play Game node has been called--\n",
      "-- Cricket node has been called--\n"
     ]
    },
    {
     "data": {
      "text/plain": [
       "{'name': 'jagadesh want to play  cricket', 'game': 'cricket'}"
      ]
     },
     "execution_count": 22,
     "metadata": {},
     "output_type": "execute_result"
    }
   ],
   "source": [
    "graph.invoke(DataClassState(name=\"jagadesh\",game=\"cricket\"))"
   ]
  },
  {
   "cell_type": "code",
   "execution_count": null,
   "metadata": {},
   "outputs": [],
   "source": []
  }
 ],
 "metadata": {
  "kernelspec": {
   "display_name": "Python 3",
   "language": "python",
   "name": "python3"
  },
  "language_info": {
   "codemirror_mode": {
    "name": "ipython",
    "version": 3
   },
   "file_extension": ".py",
   "mimetype": "text/x-python",
   "name": "python",
   "nbconvert_exporter": "python",
   "pygments_lexer": "ipython3",
   "version": "3.12.0"
  }
 },
 "nbformat": 4,
 "nbformat_minor": 2
}
