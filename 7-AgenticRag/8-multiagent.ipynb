{
 "cells": [
  {
   "cell_type": "markdown",
   "id": "09ab35a0",
   "metadata": {},
   "source": [
    "### 🤖 What are Multi-Agent RAG Systems?\n",
    "A Multi-Agent RAG System splits the RAG pipeline into multiple specialized agents — each responsible for a specific role — and enables them to collaborate on a single query or task.\n",
    "\n",
    "#### 1. 📋 Multi-Agent Network RAG System with LangGraph\n",
    "Project Overview\n",
    "\n",
    "A beginner-friendly Retrieval-Augmented Generation (RAG) system that uses a multi-agent architecture to intelligently answer questions from your documents. Built with LangGraph v0.3 for workflow orchestration and OpenAI for language understanding.\n",
    "\n",
    "What It Does\n",
    "\n",
    "Transforms your documents (PDFs, text files) into a searchable knowledge base that can answer questions intelligently using AI. Simply upload documents and ask questions in natural language - the system finds relevant information and generates comprehensive answers.\n",
    "Key Features\n",
    "\n",
    "- 📚 Multi-Format Support: Handles PDF and text documents\n",
    "- 🤖 3-Agent Architecture: Specialized agents for document processing, retrieval, and answer generation\n",
    "- 🔍 Smart Search: Vector-based semantic search finds relevant information\n",
    "- 💬 Natural Language Q&A: Ask questions in plain English\n"
   ]
  },
  {
   "cell_type": "code",
   "execution_count": 1,
   "id": "e98587e7",
   "metadata": {},
   "outputs": [],
   "source": [
    "import os\n",
    "from dotenv import load_dotenv\n",
    "load_dotenv()\n",
    "from langchain.chat_models import init_chat_model\n",
    "os.environ[\"TAVILY_API_KEY\"]=os.getenv(\"TAVILY_API_KEY\") \n",
    "\n",
    "os.environ[\"OPENAI_API_KEY\"]=os.getenv(\"OPENAI_API_KEY\")"
   ]
  },
  {
   "cell_type": "code",
   "execution_count": 2,
   "id": "60dd4609",
   "metadata": {},
   "outputs": [
    {
     "data": {
      "text/plain": [
       "ChatOpenAI(client=<openai.resources.chat.completions.completions.Completions object at 0x000001E31BCF01A0>, async_client=<openai.resources.chat.completions.completions.AsyncCompletions object at 0x000001E31C264470>, root_client=<openai.OpenAI object at 0x000001E31AA2E120>, root_async_client=<openai.AsyncOpenAI object at 0x000001E31BCF00E0>, model_name='gpt-4o-mini', model_kwargs={}, openai_api_key=SecretStr('**********'), stream_usage=True)"
      ]
     },
     "execution_count": 2,
     "metadata": {},
     "output_type": "execute_result"
    }
   ],
   "source": [
    "llm=init_chat_model(\"openai:gpt-4o-mini\")\n",
    "llm"
   ]
  },
  {
   "cell_type": "code",
   "execution_count": 3,
   "id": "647d9e1e",
   "metadata": {},
   "outputs": [],
   "source": [
    "from typing import Annotated\n",
    "\n",
    "from langchain_community.tools.tavily_search import TavilySearchResults\n",
    "from langchain_core.tools import tool\n",
    "from langchain_community.tools import WikipediaQueryRun\n",
    "from langchain_community.utilities import WikipediaAPIWrapper\n",
    "from langchain_community.document_loaders import TextLoader\n",
    "from langchain_community.vectorstores import FAISS\n",
    "from langchain_openai import OpenAIEmbeddings\n",
    "from langchain_text_splitters import RecursiveCharacterTextSplitter"
   ]
  },
  {
   "cell_type": "code",
   "execution_count": 4,
   "id": "0322592f",
   "metadata": {},
   "outputs": [
    {
     "name": "stderr",
     "output_type": "stream",
     "text": [
      "C:\\Users\\Welcome\\AppData\\Local\\Temp\\ipykernel_15332\\1522336365.py:1: LangChainDeprecationWarning: The class `TavilySearchResults` was deprecated in LangChain 0.3.25 and will be removed in 1.0. An updated version of the class exists in the `langchain-tavily package and should be used instead. To use it run `pip install -U `langchain-tavily` and import as `from `langchain_tavily import TavilySearch``.\n",
      "  tavily_tool = TavilySearchResults(k=5)\n"
     ]
    }
   ],
   "source": [
    "tavily_tool = TavilySearchResults(k=5)"
   ]
  },
  {
   "cell_type": "code",
   "execution_count": 6,
   "id": "fe652630",
   "metadata": {},
   "outputs": [
    {
     "data": {
      "text/plain": [
       "Tool(name='InternalResearchNotes', description='Search internal research notes for experimental results', func=<function make_retriever_tool_from_text.<locals>.tool_func at 0x000001E31A914CC0>)"
      ]
     },
     "execution_count": 6,
     "metadata": {},
     "output_type": "execute_result"
    }
   ],
   "source": [
    "### generic function to create a retrieval tool\n",
    "from langchain_core.tools import Tool\n",
    "def make_retriever_tool_from_text(file,name,desc):\n",
    "    docs=TextLoader(file,encoding=\"utf-8\").load()\n",
    "    chunks = RecursiveCharacterTextSplitter(chunk_size=500, chunk_overlap=50).split_documents(docs)\n",
    "    vs = FAISS.from_documents(chunks, OpenAIEmbeddings())\n",
    "    retriever = vs.as_retriever()\n",
    "\n",
    "    def tool_func(query:str)->str:\n",
    "        print(f\"📚 Using tool: {name}\")\n",
    "        results = retriever.invoke(query)\n",
    "        return \"\\n\\n\".join(doc.page_content for doc in results)\n",
    "    \n",
    "    return Tool(name=name,description=desc,func=tool_func)\n",
    "\n",
    "\n",
    "internal_tool_1=make_retriever_tool_from_text(\"sample_docs.txt\",\n",
    "                                              \"InternalResearchNotes\",\n",
    "                                              \"Search internal research notes for experimental results\")\n",
    "\n",
    "internal_tool_1"
   ]
  },
  {
   "cell_type": "code",
   "execution_count": 7,
   "id": "dbf31872",
   "metadata": {},
   "outputs": [],
   "source": [
    "from langchain_core.messages import BaseMessage, HumanMessage\n",
    "from langgraph.prebuilt import create_react_agent\n",
    "from langgraph.graph import MessagesState, END\n",
    "from langgraph.types import Command\n",
    "\n",
    "def get_next_node(last_message: BaseMessage, goto: str):\n",
    "    if \"FINAL ANSWER\" in last_message.content:\n",
    "        # Any agent decided the work is done\n",
    "        return END\n",
    "    return goto"
   ]
  },
  {
   "cell_type": "code",
   "execution_count": 8,
   "id": "f2ef34d3",
   "metadata": {},
   "outputs": [],
   "source": [
    "def make_system_prompt(suffix: str) -> str:\n",
    "    return (\n",
    "        \"You are a helpful AI assistant, collaborating with other assistants.\"\n",
    "        \" Use the provided tools to progress towards answering the question.\"\n",
    "        \" If you are unable to fully answer, that's OK, another assistant with different tools \"\n",
    "        \" will help where you left off. Execute what you can to make progress.\"\n",
    "        \" If you or any of the other assistants have the final answer or deliverable,\"\n",
    "        \" prefix your response with FINAL ANSWER so the team knows to stop.\"\n",
    "        f\"\\n{suffix}\"\n",
    "    )"
   ]
  },
  {
   "cell_type": "code",
   "execution_count": 9,
   "id": "822db5ae",
   "metadata": {},
   "outputs": [
    {
     "name": "stderr",
     "output_type": "stream",
     "text": [
      "C:\\Users\\Welcome\\AppData\\Local\\Temp\\ipykernel_15332\\3442552836.py:3: LangGraphDeprecatedSinceV10: create_react_agent has been moved to `langchain.agents`. Please update your import to `from langchain.agents import create_agent`. Deprecated in LangGraph V1.0 to be removed in V2.0.\n",
      "  research_agent=create_react_agent(\n"
     ]
    },
    {
     "data": {
      "image/png": "[encoded data removed]",
      "text/plain": [
       "<langgraph.graph.state.CompiledStateGraph object at 0x000001E32BF55CD0>"
      ]
     },
     "execution_count": 9,
     "metadata": {},
     "output_type": "execute_result"
    }
   ],
   "source": [
    "### Reaearch agent and node\n",
    "\n",
    "research_agent=create_react_agent(\n",
    "    llm,\n",
    "    tools=[internal_tool_1,tavily_tool],\n",
    "    prompt=make_system_prompt(\"You can only do research. Use the tool that you are binded with, you can use both of them\" \\\n",
    "    \" You are working with a content writer colleague.\")\n",
    ")\n",
    "\n",
    "research_agent"
   ]
  },
  {
   "cell_type": "code",
   "execution_count": 10,
   "id": "c5087088",
   "metadata": {},
   "outputs": [],
   "source": [
    "## Reaearch node\n",
    "from typing import Literal\n",
    "def research_node(state:MessagesState)-> Command[Literal[\"blog_generator\",END]]:\n",
    "    result = research_agent.invoke(state)\n",
    "    goto = get_next_node(result[\"messages\"][-1], \"blog_generator\")\n",
    "\n",
    "    # wrap in a human message, as not all providers allow\n",
    "    # AI message at the last position of the input messages list\n",
    "    result[\"messages\"][-1] = HumanMessage(\n",
    "        content=result[\"messages\"][-1].content, name=\"researcher\"\n",
    "    )\n",
    "    return Command(\n",
    "        update={\n",
    "            # share internal message history of research agent with other agents\n",
    "            \"messages\": result[\"messages\"],\n",
    "        },\n",
    "        goto=goto,\n",
    "    )\n",
    "\n"
   ]
  },
  {
   "cell_type": "code",
   "execution_count": 11,
   "id": "8bc2028a",
   "metadata": {},
   "outputs": [
    {
     "name": "stderr",
     "output_type": "stream",
     "text": [
      "C:\\Users\\Welcome\\AppData\\Local\\Temp\\ipykernel_15332\\931853117.py:2: LangGraphDeprecatedSinceV10: create_react_agent has been moved to `langchain.agents`. Please update your import to `from langchain.agents import create_agent`. Deprecated in LangGraph V1.0 to be removed in V2.0.\n",
      "  blog_agent=create_react_agent(\n"
     ]
    }
   ],
   "source": [
    "### Blog write agent\n",
    "blog_agent=create_react_agent(\n",
    "    llm,\n",
    "    tools=[],\n",
    "    prompt=make_system_prompt(\n",
    "        \"You can only write a detailed blog. You are working with a researcher colleague.\"\n",
    "    )\n",
    ")\n",
    "\n",
    "def blog_node(state: MessagesState) -> Command[Literal[\"researcher\", END]]:\n",
    "    result = blog_agent.invoke(state)\n",
    "    goto = get_next_node(result[\"messages\"][-1], \"researcher\")\n",
    "    # wrap in a human message, as not all providers allow\n",
    "    # AI message at the last position of the input messages list\n",
    "    result[\"messages\"][-1] = HumanMessage(\n",
    "        content=result[\"messages\"][-1].content, name=\"blog_generator\"\n",
    "    )\n",
    "    return Command(\n",
    "        update={\n",
    "            # share internal message history of chart agent with other agents\n",
    "            \"messages\": result[\"messages\"],\n",
    "        },\n",
    "        goto=goto,\n",
    "    )"
   ]
  },
  {
   "cell_type": "code",
   "execution_count": 12,
   "id": "3cab0b1c",
   "metadata": {},
   "outputs": [
    {
     "data": {
      "image/png": "[encoded data removed]",
      "text/plain": [
       "<langgraph.graph.state.CompiledStateGraph object at 0x000001E32BF57170>"
      ]
     },
     "execution_count": 12,
     "metadata": {},
     "output_type": "execute_result"
    }
   ],
   "source": [
    "from langgraph.graph import StateGraph, START\n",
    "\n",
    "workflow = StateGraph(MessagesState)\n",
    "workflow.add_node(\"researcher\", research_node)\n",
    "workflow.add_node(\"blog_generator\", blog_node)\n",
    "\n",
    "workflow.add_edge(START, \"researcher\")\n",
    "graph = workflow.compile()\n",
    "graph"
   ]
  },
  {
   "cell_type": "code",
   "execution_count": 13,
   "id": "08666a62",
   "metadata": {},
   "outputs": [
    {
     "name": "stdout",
     "output_type": "stream",
     "text": [
      "📚 Using tool: InternalResearchNotes\n"
     ]
    }
   ],
   "source": [
    "response=graph.invoke({\"messages\":\"Write a detailed blog on transformer variants in production deployments\"})"
   ]
  },
  {
   "cell_type": "code",
   "execution_count": 14,
   "id": "b878d0f7",
   "metadata": {},
   "outputs": [
    {
     "data": {
      "text/plain": [
       "'FINAL ANSWER\\n\\n### Transformer Variants in Production Deployments\\n\\nThe rapid evolution of transformer architectures has led to widespread adoption across various domains, particularly in natural language processing (NLP). However, transitioning from research to production involves navigating several challenges and adapting these models to real-world needs. This blog delves into notable transformer variants and best practices for their deployment in production environments.\\n\\n#### Understanding Transformer Variants\\n\\nTransformers, introduced in the seminal paper \"Attention is All You Need,\" are now central to many AI applications. Here are some key variants:\\n\\n1. **BERT (Bidirectional Encoder Representations from Transformers)**:\\n   - **Architecture**: BERT utilizes bidirectional self-attention, which allows it to consider the context from both left and right for each word.\\n   - **Use Cases**: It\\'s widely used for tasks requiring understanding of context, such as sentiment analysis and question answering.\\n\\n2. **GPT (Generative Pre-trained Transformer)**:\\n   - **Architecture**: GPT employs a left-to-right architecture, processing information based solely on preceding tokens. \\n   - **Use Cases**: It\\'s particularly adept at text generation, making it popular for chatbots and automated content creation.\\n\\n3. **DistilBERT**:\\n   - **Architecture**: A smaller, faster, and lighter version of BERT that retains much of its language understanding capabilities.\\n   - **Use Cases**: Ideal for environments with limited computational resources, without significantly sacrificing performance.\\n\\n4. **T5 (Text-to-Text Transfer Transformer)**:\\n   - **Architecture**: Treats every NLP problem as a text-to-text task, allowing for greater versatility.\\n   - **Use Cases**: Excellent for multi-tasking in language applications.\\n\\n5. **Vision Transformers (ViT)**:\\n   - **Architecture**: Adapts transformer models for image processing by treating image patches as sequences.\\n   - **Use Cases**: They have shown competitive results against CNNs in image classification tasks.\\n\\nEach of these variations addresses different challenges and requirements, leading to a more tailored approach to deploying transformers in production.\\n\\n#### Key Considerations for Production Deployment\\n\\nDeploying transformer models in production is not just about exporting a trained model. Numerous considerations need to be addressed:\\n\\n1. **Model Exporting**:\\n   Exporting models in a production-ready format is crucial. ONNX (Open Neural Network Exchange) enables conversion of models from various frameworks, optimizing them for deployment.\\n\\n2. **Infrastructure Choices**:\\n   - **Compute Power**: Adequate hardware resources (e.g., GPU, TPU) are necessary for handling model inference.\\n   - **Containerization**: Tools like Docker facilitate consistent deployment environments, simplifying dependencies and configuration.\\n\\n3. **Latency and Throughput**:\\n   - Aim to minimize latency while maximizing throughput. Techniques such as model distillation and quantization can significantly enhance performance.\\n   - Implement **caching strategies** for serving predictions, reducing the computational load on every request.\\n\\n4. **Cost Optimization**:\\n   - Monitor resource usage and optimize model serving to balance accuracy and cost. Avoid over-provisioning resources and consider alternatives like serverless architectures when possible.\\n\\n5. **Scaling Inference**:\\n   - Models need to scale effectively under varying loads. Utilize orchestration tools like Kubernetes to manage scaling and ensure smooth operations.\\n\\n6. **Continuous Integration/Continuous Deployment (CI/CD)**:\\n   - Establish CI/CD pipelines to automate testing and deployment. This ensures that updated models are validated and can be deployed reliably.\\n\\n7. **Monitoring and Feedback**:\\n   - Implement monitoring systems to track model performance in real-time. Tools such as Prometheus and Grafana can be helpful in visualizing metrics and logs.\\n   - Set up feedback loops to capture predictions versus actual outcomes, facilitating ongoing model refinement.\\n\\n#### Best Practices for Deployment\\n\\nTo ensure efficient and robust transformer deployment:\\n\\n- **Preprocess Data Effectively**: Tailor data preprocessing specific to the model\\'s needs and the targeted tasks.\\n- **Testing and Validation**: Rigorous testing procedures should be in place, where datasets are split for training, validation, and testing.\\n- **Documentation**: Maintain clear documentation for model configurations and deployment processes to help streamline team efforts.\\n- **Rolling Updates**: Use rolling updates to minimize downtime during deployment; this allows for smooth transitions between different model versions.\\n\\n#### Conclusion\\n\\nThe deployment of transformer variants in production environments presents unique challenges but also incredible opportunities. By implementing best practices and appropriately leveraging these powerful models, organizations can harness the capabilities of transformers to drive innovation and improve outcomes across a variety of applications. Whether it\\'s optimizing for performance with distillation techniques or ensuring minimal latency through containerization and orchestration, a thoughtful approach to deployment will yield successful results in the dynamic landscape of AI. \\n\\nAs the landscape of machine learning continues to evolve, staying adaptable and informed about advancements will be key to making the most of transformer models in production.'"
      ]
     },
     "execution_count": 14,
     "metadata": {},
     "output_type": "execute_result"
    }
   ],
   "source": [
    "response[\"messages\"][-1].content"
   ]
  },
  {
   "cell_type": "markdown",
   "id": "25b8965d",
   "metadata": {},
   "source": [
    "### Multi Agent Suprvisor With RAG\n",
    "Supervisor is a multi-agent architecture where specialized agents are coordinated by a central supervisor agent. The supervisor agent controls all communication flow and task delegation, making decisions about which agent to invoke based on the current context and task requirements.\n",
    "\n",
    "In this tutorial, you will build a supervisor system with two agents — a research and a math expert. By the end of the tutorial you will:\n",
    "\n",
    "1. Build specialized research and math agents\n",
    "2. Build a supervisor for orchestrating them with the prebuilt langgraph-supervisor\n",
    "3. Build a supervisor \n",
    "4. Implement advanced task delegation\n"
   ]
  },
  {
   "cell_type": "code",
   "execution_count": 15,
   "id": "af44ea36",
   "metadata": {},
   "outputs": [
    {
     "data": {
      "text/plain": [
       "Tool(name='InternalResearchNotes', description='Search internal research notes for experimental results', func=<function make_retriever_tool_from_text.<locals>.tool_func at 0x000001E31A914CC0>)"
      ]
     },
     "execution_count": 15,
     "metadata": {},
     "output_type": "execute_result"
    }
   ],
   "source": [
    "internal_tool_1"
   ]
  },
  {
   "cell_type": "code",
   "execution_count": 16,
   "id": "b5b0e699",
   "metadata": {},
   "outputs": [
    {
     "data": {
      "text/plain": [
       "TavilySearchResults(max_results=3, api_wrapper=TavilySearchAPIWrapper(tavily_api_key=SecretStr('**********')))"
      ]
     },
     "execution_count": 16,
     "metadata": {},
     "output_type": "execute_result"
    }
   ],
   "source": [
    "from langchain_community.tools.tavily_search import TavilySearchResults\n",
    "\n",
    "\n",
    "web_search = TavilySearchResults(max_results=3)\n",
    "web_search"
   ]
  },
  {
   "cell_type": "code",
   "execution_count": 17,
   "id": "90e42417",
   "metadata": {},
   "outputs": [
    {
     "name": "stderr",
     "output_type": "stream",
     "text": [
      "C:\\Users\\Welcome\\AppData\\Local\\Temp\\ipykernel_15332\\1701589918.py:3: LangGraphDeprecatedSinceV10: create_react_agent has been moved to `langchain.agents`. Please update your import to `from langchain.agents import create_agent`. Deprecated in LangGraph V1.0 to be removed in V2.0.\n",
      "  research_agent=create_react_agent(\n"
     ]
    },
    {
     "data": {
      "image/png": "[encoded data removed]",
      "text/plain": [
       "<langgraph.graph.state.CompiledStateGraph object at 0x000001E32BF61D30>"
      ]
     },
     "execution_count": 17,
     "metadata": {},
     "output_type": "execute_result"
    }
   ],
   "source": [
    "from langgraph.prebuilt import create_react_agent\n",
    "\n",
    "research_agent=create_react_agent(\n",
    "    model=llm,\n",
    "    tools=[web_search,internal_tool_1],\n",
    "    prompt=(\n",
    "        \"You are a research agent.\\n\\n\"\n",
    "        \"INSTRUCTIONS:\\n\"\n",
    "        \"- Assist ONLY with research-related tasks, DO NOT do any math\\n\"\n",
    "        \"- After you're done with your tasks, respond to the supervisor directly\\n\"\n",
    "        \"- Respond ONLY with the results of your work, do NOT include ANY other text.\"\n",
    "    ),\n",
    "    name=\"research_agent\"\n",
    ")\n",
    "research_agent"
   ]
  },
  {
   "cell_type": "code",
   "execution_count": 18,
   "id": "e8619065",
   "metadata": {},
   "outputs": [
    {
     "name": "stderr",
     "output_type": "stream",
     "text": [
      "C:\\Users\\Welcome\\AppData\\Local\\Temp\\ipykernel_15332\\3915409306.py:16: LangGraphDeprecatedSinceV10: create_react_agent has been moved to `langchain.agents`. Please update your import to `from langchain.agents import create_agent`. Deprecated in LangGraph V1.0 to be removed in V2.0.\n",
      "  math_agent=create_react_agent(\n"
     ]
    }
   ],
   "source": [
    "def add(a: float, b: float):\n",
    "    \"\"\"Add two numbers.\"\"\"\n",
    "    return a + b\n",
    "\n",
    "\n",
    "def multiply(a: float, b: float):\n",
    "    \"\"\"Multiply two numbers.\"\"\"\n",
    "    return a * b\n",
    "\n",
    "\n",
    "def divide(a: float, b: float):\n",
    "    \"\"\"Divide two numbers.\"\"\"\n",
    "    return a / b\n",
    "\n",
    "\n",
    "math_agent=create_react_agent(\n",
    "    model=llm,\n",
    "    tools=[add,multiply,divide],\n",
    "    prompt=(\n",
    "        \"You are a math agent.\\n\\n\"\n",
    "        \"INSTRUCTIONS:\\n\"\n",
    "        \"- Assist ONLY with math-related tasks\\n\"\n",
    "        \"- After you're done with your tasks, respond to the supervisor directly\\n\"\n",
    "        \"- Respond ONLY with the results of your work, do NOT include ANY other text.\"\n",
    "    ),\n",
    "    name=\"math_agent\"\n",
    "\n",
    ")"
   ]
  },
  {
   "cell_type": "code",
   "execution_count": 19,
   "id": "198cee71",
   "metadata": {},
   "outputs": [
    {
     "data": {
      "image/png": "[encoded data removed]",
      "text/plain": [
       "<langgraph.graph.state.CompiledStateGraph object at 0x000001E32BF75640>"
      ]
     },
     "execution_count": 19,
     "metadata": {},
     "output_type": "execute_result"
    }
   ],
   "source": [
    "### create supervisor agent\n",
    "\n",
    "from langgraph_supervisor import create_supervisor\n",
    "supervisor=create_supervisor(\n",
    "    model=llm,\n",
    "    agents=[research_agent,math_agent],\n",
    "    prompt=(\n",
    "         \"You are a supervisor managing two agents:\\n\"\n",
    "        \"- a research agent. Assign research-related tasks to this agent\\n\"\n",
    "        \"- a math agent. Assign math-related tasks to this agent\\n\"\n",
    "        \"Assign work to one agent at a time, do not call agents in parallel.\\n\"\n",
    "        \"Do not do any work yourself.\"\n",
    "\n",
    "    ),\n",
    "    add_handoff_back_messages=True,\n",
    "    output_mode=\"full_history\"\n",
    ").compile()\n",
    "\n",
    "supervisor"
   ]
  },
  {
   "cell_type": "code",
   "execution_count": 20,
   "id": "f530a33e",
   "metadata": {},
   "outputs": [
    {
     "name": "stdout",
     "output_type": "stream",
     "text": [
      "📚 Using tool: InternalResearchNotes\n"
     ]
    }
   ],
   "source": [
    "response=supervisor.invoke({\"messages\":\" list all the transformer variants in production deployments from the retriever and then tell me what is 5 plus 10\"})"
   ]
  },
  {
   "cell_type": "code",
   "execution_count": 21,
   "id": "db7b8b2d",
   "metadata": {},
   "outputs": [
    {
     "data": {
      "text/plain": [
       "{'messages': [HumanMessage(content=' list all the transformer variants in production deployments from the retriever and then tell me what is 5 plus 10', additional_kwargs={}, response_metadata={}, id='b570b97c-fca7-47a8-9a9a-bc3260aa314f'),\n",
       "  AIMessage(content='', additional_kwargs={'refusal': None}, response_metadata={'token_usage': {'completion_tokens': 13, 'prompt_tokens': 142, 'total_tokens': 155, 'completion_tokens_details': {'accepted_prediction_tokens': 0, 'audio_tokens': 0, 'reasoning_tokens': 0, 'rejected_prediction_tokens': 0}, 'prompt_tokens_details': {'audio_tokens': 0, 'cached_tokens': 0}}, 'model_provider': 'openai', 'model_name': 'gpt-4o-mini-2024-07-18', 'system_fingerprint': 'fp_560af6e559', 'id': 'chatcmpl-CWEy9kIg7eOxRGtMCXCai6PxYprPe', 'service_tier': 'default', 'finish_reason': 'tool_calls', 'logprobs': None}, name='supervisor', id='lc_run--72952cc3-b901-4d58-b445-c233b880af9a-0', tool_calls=[{'name': 'transfer_to_research_agent', 'args': {}, 'id': 'call_o9cQ6MGGRiJ65GsOa35SxvYX', 'type': 'tool_call'}], usage_metadata={'input_tokens': 142, 'output_tokens': 13, 'total_tokens': 155, 'input_token_details': {'audio': 0, 'cache_read': 0}, 'output_token_details': {'audio': 0, 'reasoning': 0}}),\n",
       "  ToolMessage(content='Successfully transferred to research_agent', name='transfer_to_research_agent', id='51604f52-8c0a-452c-a737-5ccb8f90520c', tool_call_id='call_o9cQ6MGGRiJ65GsOa35SxvYX'),\n",
       "  AIMessage(content='', additional_kwargs={'refusal': None}, response_metadata={'token_usage': {'completion_tokens': 22, 'prompt_tokens': 218, 'total_tokens': 240, 'completion_tokens_details': {'accepted_prediction_tokens': 0, 'audio_tokens': 0, 'reasoning_tokens': 0, 'rejected_prediction_tokens': 0}, 'prompt_tokens_details': {'audio_tokens': 0, 'cached_tokens': 0}}, 'model_provider': 'openai', 'model_name': 'gpt-4o-mini-2024-07-18', 'system_fingerprint': 'fp_560af6e559', 'id': 'chatcmpl-CWEyBK5OW5MwPGXuong1MkhXOu9cD', 'service_tier': 'default', 'finish_reason': 'tool_calls', 'logprobs': None}, name='research_agent', id='lc_run--cb063081-b86c-4770-b6d4-fdb62dafa8b4-0', tool_calls=[{'name': 'InternalResearchNotes', 'args': {'__arg1': 'transformer variants in production deployments'}, 'id': 'call_vhD0dV9rYmft5RZ63POv6RmN', 'type': 'tool_call'}], usage_metadata={'input_tokens': 218, 'output_tokens': 22, 'total_tokens': 240, 'input_token_details': {'audio': 0, 'cache_read': 0}, 'output_token_details': {'audio': 0, 'reasoning': 0}}),\n",
       "  ToolMessage(content='An agent loop is the cycle of thinking, acting, and observing. It allows an AI agent to continuously refine its actions based on results.\\nThis feedback loop is crucial in autonomous systems to adapt in real-time.\\nAgent-based architectures benefit from memory, planning, and interaction with tools.', name='InternalResearchNotes', id='8a5bdd03-73ce-450d-8000-e8d13f884d4b', tool_call_id='call_vhD0dV9rYmft5RZ63POv6RmN'),\n",
       "  AIMessage(content='No specific transformer variants in production deployments were found in the internal research notes.', additional_kwargs={'refusal': None}, response_metadata={'token_usage': {'completion_tokens': 16, 'prompt_tokens': 308, 'total_tokens': 324, 'completion_tokens_details': {'accepted_prediction_tokens': 0, 'audio_tokens': 0, 'reasoning_tokens': 0, 'rejected_prediction_tokens': 0}, 'prompt_tokens_details': {'audio_tokens': 0, 'cached_tokens': 0}}, 'model_provider': 'openai', 'model_name': 'gpt-4o-mini-2024-07-18', 'system_fingerprint': 'fp_560af6e559', 'id': 'chatcmpl-CWEyDHA9HS8WDmLctTvrYHtYYe6BV', 'service_tier': 'default', 'finish_reason': 'stop', 'logprobs': None}, name='research_agent', id='lc_run--45fbd26f-2ae3-4988-9bb5-5471e7ccfa66-0', usage_metadata={'input_tokens': 308, 'output_tokens': 16, 'total_tokens': 324, 'input_token_details': {'audio': 0, 'cache_read': 0}, 'output_token_details': {'audio': 0, 'reasoning': 0}}),\n",
       "  AIMessage(content='Transferring back to supervisor', additional_kwargs={}, response_metadata={'__is_handoff_back': True}, name='research_agent', id='ac926a75-dbf5-4a7a-ac70-53ae4cca2137', tool_calls=[{'name': 'transfer_back_to_supervisor', 'args': {}, 'id': 'c5580b8e-1691-4bc4-bcc5-06ce0f3826e1', 'type': 'tool_call'}]),\n",
       "  ToolMessage(content='Successfully transferred back to supervisor', name='transfer_back_to_supervisor', id='2b49781f-461d-4b1b-8da2-7a462612ed77', tool_call_id='c5580b8e-1691-4bc4-bcc5-06ce0f3826e1'),\n",
       "  AIMessage(content='', additional_kwargs={'refusal': None}, response_metadata={'token_usage': {'completion_tokens': 12, 'prompt_tokens': 331, 'total_tokens': 343, 'completion_tokens_details': {'accepted_prediction_tokens': 0, 'audio_tokens': 0, 'reasoning_tokens': 0, 'rejected_prediction_tokens': 0}, 'prompt_tokens_details': {'audio_tokens': 0, 'cached_tokens': 0}}, 'model_provider': 'openai', 'model_name': 'gpt-4o-mini-2024-07-18', 'system_fingerprint': 'fp_560af6e559', 'id': 'chatcmpl-CWEyFhCx4GOUD2nErm7fTPHjR5K84', 'service_tier': 'default', 'finish_reason': 'tool_calls', 'logprobs': None}, name='supervisor', id='lc_run--7d45df3d-0ffe-4122-8794-82ae8166ff26-0', tool_calls=[{'name': 'transfer_to_math_agent', 'args': {}, 'id': 'call_1jWbWp62t1cQzfOlEob1pUuc', 'type': 'tool_call'}], usage_metadata={'input_tokens': 331, 'output_tokens': 12, 'total_tokens': 343, 'input_token_details': {'audio': 0, 'cache_read': 0}, 'output_token_details': {'audio': 0, 'reasoning': 0}}),\n",
       "  ToolMessage(content='Successfully transferred to math_agent', name='transfer_to_math_agent', id='593f8332-8a30-4420-a410-9c4ef8a6a3c7', tool_call_id='call_1jWbWp62t1cQzfOlEob1pUuc'),\n",
       "  AIMessage(content='', additional_kwargs={'refusal': None}, response_metadata={'token_usage': {'completion_tokens': 17, 'prompt_tokens': 376, 'total_tokens': 393, 'completion_tokens_details': {'accepted_prediction_tokens': 0, 'audio_tokens': 0, 'reasoning_tokens': 0, 'rejected_prediction_tokens': 0}, 'prompt_tokens_details': {'audio_tokens': 0, 'cached_tokens': 0}}, 'model_provider': 'openai', 'model_name': 'gpt-4o-mini-2024-07-18', 'system_fingerprint': 'fp_560af6e559', 'id': 'chatcmpl-CWEyGoVlqZPYHehjVf6HTTZjFff3s', 'service_tier': 'default', 'finish_reason': 'tool_calls', 'logprobs': None}, name='math_agent', id='lc_run--cf9f8f9d-0666-450f-a778-4661ba4a69ad-0', tool_calls=[{'name': 'add', 'args': {'a': 5, 'b': 10}, 'id': 'call_NGlVZyl0yCThz1bK2jVos7MY', 'type': 'tool_call'}], usage_metadata={'input_tokens': 376, 'output_tokens': 17, 'total_tokens': 393, 'input_token_details': {'audio': 0, 'cache_read': 0}, 'output_token_details': {'audio': 0, 'reasoning': 0}}),\n",
       "  ToolMessage(content='15.0', name='add', id='9550f33b-e9ae-432e-a4f2-6ce6344da5ef', tool_call_id='call_NGlVZyl0yCThz1bK2jVos7MY'),\n",
       "  AIMessage(content='15', additional_kwargs={'refusal': None}, response_metadata={'token_usage': {'completion_tokens': 2, 'prompt_tokens': 406, 'total_tokens': 408, 'completion_tokens_details': {'accepted_prediction_tokens': 0, 'audio_tokens': 0, 'reasoning_tokens': 0, 'rejected_prediction_tokens': 0}, 'prompt_tokens_details': {'audio_tokens': 0, 'cached_tokens': 0}}, 'model_provider': 'openai', 'model_name': 'gpt-4o-mini-2024-07-18', 'system_fingerprint': 'fp_560af6e559', 'id': 'chatcmpl-CWEyIhsKEABRTl8sTx0xyYIacTc4K', 'service_tier': 'default', 'finish_reason': 'stop', 'logprobs': None}, name='math_agent', id='lc_run--be538383-fdee-4f82-84ba-0710daf88a3d-0', usage_metadata={'input_tokens': 406, 'output_tokens': 2, 'total_tokens': 408, 'input_token_details': {'audio': 0, 'cache_read': 0}, 'output_token_details': {'audio': 0, 'reasoning': 0}}),\n",
       "  AIMessage(content='Transferring back to supervisor', additional_kwargs={}, response_metadata={'__is_handoff_back': True}, name='math_agent', id='e19f5f15-6bce-4033-9152-22d9c0933206', tool_calls=[{'name': 'transfer_back_to_supervisor', 'args': {}, 'id': 'dd6b8e56-0573-4f2e-905c-76ab461fe0f9', 'type': 'tool_call'}]),\n",
       "  ToolMessage(content='Successfully transferred back to supervisor', name='transfer_back_to_supervisor', id='69d94abe-2195-47dd-8fcf-54c220775f95', tool_call_id='dd6b8e56-0573-4f2e-905c-76ab461fe0f9'),\n",
       "  AIMessage(content='The research agent did not find specific transformer variants in production deployments. However, the math agent calculated that 5 plus 10 equals 15.', additional_kwargs={'refusal': None}, response_metadata={'token_usage': {'completion_tokens': 30, 'prompt_tokens': 444, 'total_tokens': 474, 'completion_tokens_details': {'accepted_prediction_tokens': 0, 'audio_tokens': 0, 'reasoning_tokens': 0, 'rejected_prediction_tokens': 0}, 'prompt_tokens_details': {'audio_tokens': 0, 'cached_tokens': 0}}, 'model_provider': 'openai', 'model_name': 'gpt-4o-mini-2024-07-18', 'system_fingerprint': 'fp_560af6e559', 'id': 'chatcmpl-CWEyIrUtoEuNoO6S4YVwYzvCyQl4H', 'service_tier': 'default', 'finish_reason': 'stop', 'logprobs': None}, name='supervisor', id='lc_run--b56c6763-082a-48be-baa5-e2e7123e24fc-0', usage_metadata={'input_tokens': 444, 'output_tokens': 30, 'total_tokens': 474, 'input_token_details': {'audio': 0, 'cache_read': 0}, 'output_token_details': {'audio': 0, 'reasoning': 0}})]}"
      ]
     },
     "execution_count": 21,
     "metadata": {},
     "output_type": "execute_result"
    }
   ],
   "source": [
    "response"
   ]
  },
  {
   "cell_type": "code",
   "execution_count": 22,
   "id": "3de08dc8",
   "metadata": {},
   "outputs": [
    {
     "data": {
      "text/plain": [
       "'The research agent did not find specific transformer variants in production deployments. However, the math agent calculated that 5 plus 10 equals 15.'"
      ]
     },
     "execution_count": 22,
     "metadata": {},
     "output_type": "execute_result"
    }
   ],
   "source": [
    "response[\"messages\"][-1].content"
   ]
  },
  {
   "cell_type": "markdown",
   "id": "d3d953f9",
   "metadata": {},
   "source": [
    "### Hierarchical Agent Teams With RAG\n",
    "In our previous example (Agent Supervisor), we introduced the concept of a single supervisor node to route work between different worker nodes.\n",
    "\n",
    "But what if the job for a single worker becomes too complex? What if the number of workers becomes too large?\n",
    "\n",
    "For some applications, the system may be more effective if work is distributed hierarchically.\n",
    "\n",
    "You can do this by composing different subgraphs and creating a top-level supervisor, along with mid-level supervisors."
   ]
  },
  {
   "cell_type": "code",
   "execution_count": 23,
   "id": "acb5b72c",
   "metadata": {},
   "outputs": [
    {
     "name": "stderr",
     "output_type": "stream",
     "text": [
      "USER_AGENT environment variable not set, consider setting it to identify your requests.\n"
     ]
    }
   ],
   "source": [
    "from typing import Annotated, List\n",
    "\n",
    "from langchain_community.document_loaders import WebBaseLoader\n",
    "from langchain_community.tools.tavily_search import TavilySearchResults\n",
    "from langchain_core.tools import tool\n",
    "\n",
    "tavily_tool = TavilySearchResults(max_results=5)"
   ]
  },
  {
   "cell_type": "code",
   "execution_count": 24,
   "id": "d2a3919e",
   "metadata": {},
   "outputs": [],
   "source": [
    "@tool\n",
    "def scrape_webpages(urls:List[str])->str:\n",
    "    \"\"\"Use requests and bs4 to scrape the provided web pages for detailed information.\"\"\"\n",
    "    loader = WebBaseLoader(urls)\n",
    "    docs = loader.load()\n",
    "    return \"\\n\\n\".join(\n",
    "        [\n",
    "            f'<Document name=\"{doc.metadata.get(\"title\", \"\")}\">\\n{doc.page_content}\\n</Document>'\n",
    "            for doc in docs\n",
    "        ]\n",
    "    )\n"
   ]
  },
  {
   "cell_type": "code",
   "execution_count": 25,
   "id": "149d4fae",
   "metadata": {},
   "outputs": [],
   "source": [
    "from pathlib import Path\n",
    "from tempfile import TemporaryDirectory\n",
    "from typing import Dict, Optional\n",
    "\n",
    "from langchain_experimental.utilities import PythonREPL\n",
    "from typing_extensions import TypedDict\n",
    "\n",
    "_TEMP_DIRECTORY = TemporaryDirectory()\n",
    "WORKING_DIRECTORY = Path(_TEMP_DIRECTORY.name)\n",
    "\n",
    "@tool\n",
    "def create_outline(\n",
    "    points: Annotated[List[str], \"List of main points or sections.\"],\n",
    "    file_name: Annotated[str, \"File path to save the outline.\"],\n",
    ") -> Annotated[str, \"Path of the saved outline file.\"]:\n",
    "    \"\"\"Create and save an outline.\"\"\"\n",
    "    with (WORKING_DIRECTORY / file_name).open(\"w\") as file:\n",
    "        for i, point in enumerate(points):\n",
    "            file.write(f\"{i + 1}. {point}\\n\")\n",
    "    return f\"Outline saved to {file_name}\"\n",
    "\n",
    "@tool\n",
    "def write_document(\n",
    "    content: Annotated[str, \"Text content to be written into the document.\"],\n",
    "    file_name: Annotated[str, \"File path to save the document.\"],\n",
    ") -> Annotated[str, \"Path of the saved document file.\"]:\n",
    "    \"\"\"Create and save a text document.\"\"\"\n",
    "    with (WORKING_DIRECTORY / file_name).open(\"w\") as file:\n",
    "        file.write(content)\n",
    "    return f\"Document saved to {file_name}\"\n",
    "\n",
    "@tool\n",
    "def edit_document(\n",
    "    file_name: Annotated[str, \"Path of the document to be edited.\"],\n",
    "    inserts: Annotated[\n",
    "        Dict[int, str],\n",
    "        \"Dictionary where key is the line number (1-indexed) and value is the text to be inserted at that line.\",\n",
    "    ],\n",
    ") -> Annotated[str, \"Path of the edited document file.\"]:\n",
    "    \"\"\"Edit a document by inserting text at specific line numbers.\"\"\"\n",
    "\n",
    "    with (WORKING_DIRECTORY / file_name).open(\"r\") as file:\n",
    "        lines = file.readlines()\n",
    "\n",
    "    sorted_inserts = sorted(inserts.items())\n",
    "\n",
    "    for line_number, text in sorted_inserts:\n",
    "        if 1 <= line_number <= len(lines) + 1:\n",
    "            lines.insert(line_number - 1, text + \"\\n\")\n",
    "        else:\n",
    "            return f\"Error: Line number {line_number} is out of range.\"\n",
    "\n",
    "    with (WORKING_DIRECTORY / file_name).open(\"w\") as file:\n",
    "        file.writelines(lines)\n",
    "\n",
    "    return f\"Document edited and saved to {file_name}\""
   ]
  },
  {
   "cell_type": "code",
   "execution_count": 26,
   "id": "ee39e731",
   "metadata": {},
   "outputs": [
    {
     "data": {
      "text/plain": [
       "WindowsPath('C:/Users/Welcome/AppData/Local/Temp/tmp821ztg6d')"
      ]
     },
     "execution_count": 26,
     "metadata": {},
     "output_type": "execute_result"
    }
   ],
   "source": [
    "WORKING_DIRECTORY"
   ]
  },
  {
   "cell_type": "code",
   "execution_count": 27,
   "id": "6ef30926",
   "metadata": {},
   "outputs": [],
   "source": [
    "# Warning: This executes code locally, which can be unsafe when not sandboxed\n",
    "\n",
    "repl = PythonREPL()\n",
    "\n",
    "\n",
    "@tool\n",
    "def python_repl_tool(\n",
    "    code: Annotated[str, \"The python code to execute to generate your chart.\"],\n",
    "):\n",
    "    \"\"\"Use this to execute python code. If you want to see the output of a value,\n",
    "    you should print it out with `print(...)`. This is visible to the user.\"\"\"\n",
    "    try:\n",
    "        result = repl.run(code)\n",
    "    except BaseException as e:\n",
    "        return f\"Failed to execute. Error: {repr(e)}\"\n",
    "    return f\"Successfully executed:\\n```python\\n{code}\\n```\\nStdout: {result}\""
   ]
  },
  {
   "cell_type": "code",
   "execution_count": 28,
   "id": "17860413",
   "metadata": {},
   "outputs": [],
   "source": [
    "from typing import List, Optional, Literal\n",
    "from langchain_core.language_models.chat_models import BaseChatModel\n",
    "\n",
    "from langgraph.graph import StateGraph, MessagesState, START, END\n",
    "from langgraph.types import Command\n",
    "from langchain_core.messages import HumanMessage, trim_messages\n",
    "\n",
    "\n",
    "class State(MessagesState):\n",
    "    next: str"
   ]
  },
  {
   "cell_type": "code",
   "execution_count": 29,
   "id": "eae8537f",
   "metadata": {},
   "outputs": [],
   "source": [
    "def make_supervisor_node(llm: BaseChatModel, members: list[str]) -> str:\n",
    "    options = [\"FINISH\"] + members\n",
    "    system_prompt = (\n",
    "        \"You are a supervisor tasked with managing a conversation between the\"\n",
    "        f\" following workers: {members}. Given the following user request,\"\n",
    "        \" respond with the worker to act next. Each worker will perform a\"\n",
    "        \" task and respond with their results and status. When finished,\"\n",
    "        \" respond with FINISH.\"\n",
    "    )\n",
    "\n",
    "    class Router(TypedDict):\n",
    "        \"\"\"Worker to route to next. If no workers needed, route to FINISH.\"\"\"\n",
    "\n",
    "        next: Literal[*options]\n",
    "\n",
    "    def supervisor_node(state: State) -> Command[Literal[*members, \"__end__\"]]:\n",
    "        \"\"\"An LLM-based router.\"\"\"\n",
    "        messages = [\n",
    "            {\"role\": \"system\", \"content\": system_prompt},\n",
    "        ] + state[\"messages\"]\n",
    "        response = llm.with_structured_output(Router).invoke(messages)\n",
    "        goto = response[\"next\"]\n",
    "        if goto == \"FINISH\":\n",
    "            goto = END\n",
    "\n",
    "        return Command(goto=goto, update={\"next\": goto})\n",
    "\n",
    "    return supervisor_node"
   ]
  },
  {
   "cell_type": "code",
   "execution_count": 30,
   "id": "eff44a0e",
   "metadata": {},
   "outputs": [
    {
     "data": {
      "text/plain": [
       "Tool(name='InternalResearchNotes', description='Search internal research notes for experimental results', func=<function make_retriever_tool_from_text.<locals>.tool_func at 0x000001E31A914CC0>)"
      ]
     },
     "execution_count": 30,
     "metadata": {},
     "output_type": "execute_result"
    }
   ],
   "source": [
    "internal_tool_1"
   ]
  },
  {
   "cell_type": "code",
   "execution_count": 34,
   "id": "729557d8",
   "metadata": {},
   "outputs": [
    {
     "name": "stderr",
     "output_type": "stream",
     "text": [
      "C:\\Users\\Welcome\\AppData\\Local\\Temp\\ipykernel_15332\\2815477865.py:7: LangGraphDeprecatedSinceV10: create_react_agent has been moved to `langchain.agents`. Please update your import to `from langchain.agents import create_agent`. Deprecated in LangGraph V1.0 to be removed in V2.0.\n",
      "  search_agent = create_react_agent(llm, tools=[tavily_tool,internal_tool_1])\n",
      "C:\\Users\\Welcome\\AppData\\Local\\Temp\\ipykernel_15332\\2815477865.py:23: LangGraphDeprecatedSinceV10: create_react_agent has been moved to `langchain.agents`. Please update your import to `from langchain.agents import create_agent`. Deprecated in LangGraph V1.0 to be removed in V2.0.\n",
      "  web_scraper_agent = create_react_agent(llm, tools=[scrape_webpages])\n"
     ]
    }
   ],
   "source": [
    "from langchain_core.messages import HumanMessage\n",
    "from langchain_openai import ChatOpenAI\n",
    "from langgraph.prebuilt import create_react_agent\n",
    "\n",
    "\n",
    "\n",
    "search_agent = create_react_agent(llm, tools=[tavily_tool,internal_tool_1])\n",
    "search_agent\n",
    "\n",
    "def search_node(state: State) -> Command[Literal[\"supervisor\"]]:\n",
    "    result = search_agent.invoke(state)\n",
    "    return Command(\n",
    "        update={\n",
    "            \"messages\": [\n",
    "                HumanMessage(content=result[\"messages\"][-1].content, name=\"search\")\n",
    "            ]\n",
    "        },\n",
    "        # We want our workers to ALWAYS \"report back\" to the supervisor when done\n",
    "        goto=\"supervisor\",\n",
    "    )\n",
    "\n",
    "### sub agent\n",
    "web_scraper_agent = create_react_agent(llm, tools=[scrape_webpages])\n",
    "\n",
    "\n",
    "def web_scraper_node(state: State) -> Command[Literal[\"supervisor\"]]:\n",
    "    result = web_scraper_agent.invoke(state)\n",
    "    return Command(\n",
    "        update={\n",
    "            \"messages\": [\n",
    "                HumanMessage(content=result[\"messages\"][-1].content, name=\"web_scraper\")\n",
    "            ]\n",
    "        },\n",
    "        # We want our workers to ALWAYS \"report back\" to the supervisor when done\n",
    "        goto=\"supervisor\",\n",
    "    )"
   ]
  },
  {
   "cell_type": "code",
   "execution_count": 35,
   "id": "91d88c3e",
   "metadata": {},
   "outputs": [
    {
     "data": {
      "text/plain": [
       "<function __main__.make_supervisor_node.<locals>.supervisor_node(state: __main__.State) -> langgraph.types.Command[typing.Literal['search', 'web_scraper', '__end__']]>"
      ]
     },
     "execution_count": 35,
     "metadata": {},
     "output_type": "execute_result"
    }
   ],
   "source": [
    "research_supervisor_node = make_supervisor_node(llm, [\"search\", \"web_scraper\"])\n",
    "research_supervisor_node"
   ]
  },
  {
   "cell_type": "code",
   "execution_count": 36,
   "id": "da0b9a92",
   "metadata": {},
   "outputs": [
    {
     "data": {
      "image/png": "[encoded data removed]",
      "text/plain": [
       "<langgraph.graph.state.CompiledStateGraph object at 0x000001E32CED2F90>"
      ]
     },
     "execution_count": 36,
     "metadata": {},
     "output_type": "execute_result"
    }
   ],
   "source": [
    "research_builder = StateGraph(State)\n",
    "research_builder.add_node(\"supervisor\", research_supervisor_node)\n",
    "research_builder.add_node(\"search\", search_node)\n",
    "research_builder.add_node(\"web_scraper\", web_scraper_node)\n",
    "\n",
    "research_builder.add_edge(START, \"supervisor\")\n",
    "research_graph = research_builder.compile()\n",
    "research_graph"
   ]
  },
  {
   "cell_type": "code",
   "execution_count": 37,
   "id": "2a4356ac",
   "metadata": {},
   "outputs": [],
   "source": [
    "@tool\n",
    "def read_document(\n",
    "    file_name: Annotated[str, \"File path to read the document from.\"],\n",
    "    start: Annotated[Optional[int], \"The start line. Default is 0\"] = None,\n",
    "    end: Annotated[Optional[int], \"The end line. Default is None\"] = None,\n",
    ") -> str:\n",
    "    \"\"\"Read the specified document.\"\"\"\n",
    "    with (WORKING_DIRECTORY / file_name).open(\"r\") as file:\n",
    "        lines = file.readlines()\n",
    "    if start is None:\n",
    "        start = 0\n",
    "    return \"\\n\".join(lines[start:end])"
   ]
  },
  {
   "cell_type": "code",
   "execution_count": 38,
   "id": "8ca354a5",
   "metadata": {},
   "outputs": [
    {
     "name": "stderr",
     "output_type": "stream",
     "text": [
      "C:\\Users\\Welcome\\AppData\\Local\\Temp\\ipykernel_15332\\1850447762.py:1: LangGraphDeprecatedSinceV10: create_react_agent has been moved to `langchain.agents`. Please update your import to `from langchain.agents import create_agent`. Deprecated in LangGraph V1.0 to be removed in V2.0.\n",
      "  doc_writer_agent = create_react_agent(\n",
      "C:\\Users\\Welcome\\AppData\\Local\\Temp\\ipykernel_15332\\1850447762.py:23: LangGraphDeprecatedSinceV10: create_react_agent has been moved to `langchain.agents`. Please update your import to `from langchain.agents import create_agent`. Deprecated in LangGraph V1.0 to be removed in V2.0.\n",
      "  note_taking_agent = create_react_agent(\n",
      "C:\\Users\\Welcome\\AppData\\Local\\Temp\\ipykernel_15332\\1850447762.py:46: LangGraphDeprecatedSinceV10: create_react_agent has been moved to `langchain.agents`. Please update your import to `from langchain.agents import create_agent`. Deprecated in LangGraph V1.0 to be removed in V2.0.\n",
      "  chart_generating_agent = create_react_agent(\n"
     ]
    }
   ],
   "source": [
    "doc_writer_agent = create_react_agent(\n",
    "    llm,\n",
    "    tools=[write_document, edit_document, read_document],\n",
    "    prompt=(\n",
    "        \"You can read, write and edit documents based on note-taker's outlines. \"\n",
    "        \"Don't ask follow-up questions.\"\n",
    "    ),\n",
    ")\n",
    "\n",
    "\n",
    "def doc_writing_node(state: State) -> Command[Literal[\"supervisor\"]]:\n",
    "    result = doc_writer_agent.invoke(state)\n",
    "    return Command(\n",
    "        update={\n",
    "            \"messages\": [\n",
    "                HumanMessage(content=result[\"messages\"][-1].content, name=\"doc_writer\")\n",
    "            ]\n",
    "        },\n",
    "        # We want our workers to ALWAYS \"report back\" to the supervisor when done\n",
    "        goto=\"supervisor\",\n",
    "    )\n",
    "\n",
    "note_taking_agent = create_react_agent(\n",
    "    llm,\n",
    "    tools=[create_outline, read_document],\n",
    "    prompt=(\n",
    "        \"You can read documents and create outlines for the document writer. \"\n",
    "        \"Don't ask follow-up questions.\"\n",
    "    ),\n",
    ")\n",
    "\n",
    "\n",
    "def note_taking_node(state: State) -> Command[Literal[\"supervisor\"]]:\n",
    "    result = note_taking_agent.invoke(state)\n",
    "    return Command(\n",
    "        update={\n",
    "            \"messages\": [\n",
    "                HumanMessage(content=result[\"messages\"][-1].content, name=\"note_taker\")\n",
    "            ]\n",
    "        },\n",
    "        # We want our workers to ALWAYS \"report back\" to the supervisor when done\n",
    "        goto=\"supervisor\",\n",
    "    )\n",
    "\n",
    "\n",
    "chart_generating_agent = create_react_agent(\n",
    "    llm, tools=[read_document, python_repl_tool]\n",
    ")\n",
    "\n",
    "\n",
    "def chart_generating_node(state: State) -> Command[Literal[\"supervisor\"]]:\n",
    "    result = chart_generating_agent.invoke(state)\n",
    "    return Command(\n",
    "        update={\n",
    "            \"messages\": [\n",
    "                HumanMessage(\n",
    "                    content=result[\"messages\"][-1].content, name=\"chart_generator\"\n",
    "                )\n",
    "            ]\n",
    "        },\n",
    "        # We want our workers to ALWAYS \"report back\" to the supervisor when done\n",
    "        goto=\"supervisor\",\n",
    "    )\n",
    "\n",
    "doc_writing_supervisor_node = make_supervisor_node(\n",
    "    llm, [\"doc_writer\", \"note_taker\", \"chart_generator\"])"
   ]
  },
  {
   "cell_type": "code",
   "execution_count": 39,
   "id": "e2c85b27",
   "metadata": {},
   "outputs": [
    {
     "data": {
      "image/png": "[encoded data removed]",
      "text/plain": [
       "<langgraph.graph.state.CompiledStateGraph object at 0x000001E32C902F90>"
      ]
     },
     "execution_count": 39,
     "metadata": {},
     "output_type": "execute_result"
    }
   ],
   "source": [
    "# Create the graph here\n",
    "paper_writing_builder = StateGraph(State)\n",
    "paper_writing_builder.add_node(\"supervisor\", doc_writing_supervisor_node)\n",
    "paper_writing_builder.add_node(\"doc_writer\", doc_writing_node)\n",
    "paper_writing_builder.add_node(\"note_taker\", note_taking_node)\n",
    "paper_writing_builder.add_node(\"chart_generator\", chart_generating_node)\n",
    "\n",
    "paper_writing_builder.add_edge(START, \"supervisor\")\n",
    "paper_writing_graph = paper_writing_builder.compile()\n",
    "paper_writing_graph"
   ]
  },
  {
   "cell_type": "code",
   "execution_count": 40,
   "id": "f9b2bd7d",
   "metadata": {},
   "outputs": [
    {
     "data": {
      "text/plain": [
       "<function __main__.make_supervisor_node.<locals>.supervisor_node(state: __main__.State) -> langgraph.types.Command[typing.Literal['research_team', 'writing_team', '__end__']]>"
      ]
     },
     "execution_count": 40,
     "metadata": {},
     "output_type": "execute_result"
    }
   ],
   "source": [
    "from langchain_core.messages import BaseMessage\n",
    "teams_supervisor_node = make_supervisor_node(llm, [\"research_team\", \"writing_team\"])\n",
    "teams_supervisor_node"
   ]
  },
  {
   "cell_type": "code",
   "execution_count": 41,
   "id": "e2ac4ee3",
   "metadata": {},
   "outputs": [
    {
     "data": {
      "image/png": "[encoded data removed]",
      "text/plain": [
       "<langgraph.graph.state.CompiledStateGraph object at 0x000001E32C937B30>"
      ]
     },
     "execution_count": 41,
     "metadata": {},
     "output_type": "execute_result"
    }
   ],
   "source": [
    "def call_research_team(state: State) -> Command[Literal[\"supervisor\"]]:\n",
    "    response = research_graph.invoke({\"messages\": state[\"messages\"][-1]})\n",
    "    return Command(\n",
    "        update={\n",
    "            \"messages\": [\n",
    "                HumanMessage(\n",
    "                    content=response[\"messages\"][-1].content, name=\"research_team\"\n",
    "                )\n",
    "            ]\n",
    "        },\n",
    "        goto=\"supervisor\",\n",
    "    )\n",
    "\n",
    "\n",
    "def call_paper_writing_team(state: State) -> Command[Literal[\"supervisor\"]]:\n",
    "    response = paper_writing_graph.invoke({\"messages\": state[\"messages\"][-1]})\n",
    "    return Command(\n",
    "        update={\n",
    "            \"messages\": [\n",
    "                HumanMessage(\n",
    "                    content=response[\"messages\"][-1].content, name=\"writing_team\"\n",
    "                )\n",
    "            ]\n",
    "        },\n",
    "        goto=\"supervisor\",\n",
    "    )\n",
    "\n",
    "\n",
    "# Define the graph.\n",
    "super_builder = StateGraph(State)\n",
    "super_builder.add_node(\"supervisor\", teams_supervisor_node)\n",
    "super_builder.add_node(\"research_team\", call_research_team)\n",
    "super_builder.add_node(\"writing_team\", call_paper_writing_team)\n",
    "\n",
    "super_builder.add_edge(START, \"supervisor\")\n",
    "super_graph = super_builder.compile()\n",
    "super_graph"
   ]
  },
  {
   "cell_type": "code",
   "execution_count": 42,
   "id": "3cf659d3",
   "metadata": {},
   "outputs": [],
   "source": [
    "response=super_graph.invoke(\n",
    "    {\n",
    "        \"messages\": [\n",
    "            (\"user\", \"Write about transformer variants in production deployments.\")\n",
    "        ],\n",
    "    })"
   ]
  },
  {
   "cell_type": "code",
   "execution_count": 43,
   "id": "3788d59b",
   "metadata": {},
   "outputs": [
    {
     "data": {
      "text/plain": [
       "{'messages': [HumanMessage(content='Write about transformer variants in production deployments.', additional_kwargs={}, response_metadata={}, id='3d925058-cd7d-45ef-92d1-ec70e9c2bef1'),\n",
       "  HumanMessage(content='Transformer models have led to significant advancements in natural language processing (NLP) and related fields. In production deployments, various transformer variants are tailored to meet specific application needs and operational constraints. Below are some commonly used transformer variants:\\n\\n### 1. **BERT (Bidirectional Encoder Representations from Transformers)**\\n   - **Architecture**: Multi-layer bidirectional transformer encoder that enhances understanding of context.\\n   - **Use Cases**: Often used for question answering, sentiment analysis, and named entity recognition.\\n   - **Production**: Extensively implemented in search engines and virtual assistants to improve query comprehension.\\n\\n### 2. **GPT (Generative Pre-trained Transformer)**\\n   - **Architecture**: Composed of a unidirectional transformer decoder, making it ideal for generating text.\\n   - **Use Cases**: Suitable for applications like dialogue systems, content creation, and summarization.\\n   - **Production**: Deployments include virtual assistants, chatbots, and automated content generation tools.\\n\\n### 3. **RoBERTa (Robustly Optimized BERT Approach)**\\n   - **Architecture**: An enhanced version of BERT that removes certain training objectives for better performance.\\n   - **Use Cases**: Similar to BERT but typically achieves superior results on benchmark tasks.\\n   - **Production**: Frequently utilized in applications requiring precision in language understanding.\\n\\n### 4. **ALBERT (A Lite BERT)**\\n   - **Architecture**: Focuses on reducing the model size through parameter sharing while retaining performance.\\n   - **Use Cases**: Primarily for tasks like text classification and sentiment analysis.\\n   - **Production**: Ideal for environments with resource constraints, aiming for efficiency.\\n\\n### 5. **DistilBERT**\\n   - **Architecture**: A smaller, faster variant of BERT that retains much of its capability but is more efficient.\\n   - **Use Cases**: Suited for applications demanding quick responses and low latency.\\n   - **Production**: Commonly adopted in mobile applications and real-time systems.\\n\\n### 6. **XLNet**\\n   - **Architecture**: A generalized autoregressive model that captures bidirectional context using a permutation-based approach.\\n   - **Use Cases**: Effective for complex language tasks where contextual relationships matter.\\n   - **Production**: Employed in advanced applications requiring deep contextual understanding.\\n\\n### 7. **T5 (Text-to-Text Transfer Transformer)**\\n   - **Architecture**: Converts all NLP tasks into a text-to-text format, allowing flexibility in input and output.\\n   - **Use Cases**: Applicable in diverse NLP tasks like translation, summarization, and question answering.\\n   - **Production**: Used in systems that require a versatile handling of various language-related challenges.\\n\\n### 8. **MobileBERT and TinyBERT**\\n   - **Architecture**: Developed specifically for edge devices, these models are streamlined to operate within tight memory and processing constraints.\\n   - **Use Cases**: Ideal for mobile and IoT applications where resources are limited.\\n   - **Production**: Efficiently deployed in edge environments, often achieving significant speed and memory efficiency while maintaining performance.\\n\\n### 9. **FlashAttention and LongNet**\\n   - **Purpose**: New attention mechanisms designed to optimize memory usage and computational efficiency, particularly for longer sequences.\\n   - **Production**: Address challenges that arise from the scaling of standard transformers in extensive datasets and operational contexts.\\n\\n### Deployment Strategies\\nWhen adopting transformer models for production, particularly on edge devices, organizations often utilize techniques such as model compression (distillation, quantization), automated deployment pipelines, and active monitoring of performance metrics (latency, resource usage) to ensure reliability and effectiveness in real-world applications.\\n\\n### Summary\\nThe choice of transformer variant depends on the specific requirements of the application, including context understanding, resource availability, and speed requirements. As the field continues to evolve, so do the deployment strategies and efficiency approaches for these powerful models. The integration of these transformer variants into various applications demonstrates their versatility and transformative impact across industries.', additional_kwargs={}, response_metadata={}, name='research_team', id='61caab62-cc6e-4a84-82ac-3837e32ea74c'),\n",
       "  HumanMessage(content='The document and outline for the transformer models in natural language processing have been successfully created and saved. If you need any further assistance or additional information regarding these transformer models, feel free to ask!', additional_kwargs={}, response_metadata={}, name='writing_team', id='c2b8ec18-2993-4477-add6-70a6fa3cfb5d')],\n",
       " 'next': '__end__'}"
      ]
     },
     "execution_count": 43,
     "metadata": {},
     "output_type": "execute_result"
    }
   ],
   "source": [
    "response"
   ]
  },
  {
   "cell_type": "code",
   "execution_count": 44,
   "id": "58d3e75f",
   "metadata": {},
   "outputs": [
    {
     "data": {
      "text/plain": [
       "'The document and outline for the transformer models in natural language processing have been successfully created and saved. If you need any further assistance or additional information regarding these transformer models, feel free to ask!'"
      ]
     },
     "execution_count": 44,
     "metadata": {},
     "output_type": "execute_result"
    }
   ],
   "source": [
    "response[\"messages\"][-1].content"
   ]
  },
  {
   "cell_type": "code",
   "execution_count": null,
   "id": "a8535bed",
   "metadata": {},
   "outputs": [],
   "source": []
  },
  {
   "cell_type": "code",
   "execution_count": null,
   "id": "8902d3bc",
   "metadata": {},
   "outputs": [],
   "source": []
  },
  {
   "cell_type": "code",
   "execution_count": null,
   "id": "ea0caf75",
   "metadata": {},
   "outputs": [],
   "source": []
  }
 ],
 "metadata": {
  "kernelspec": {
   "display_name": "Python 3",
   "language": "python",
   "name": "python3"
  },
  "language_info": {
   "codemirror_mode": {
    "name": "ipython",
    "version": 3
   },
   "file_extension": ".py",
   "mimetype": "text/x-python",
   "name": "python",
   "nbconvert_exporter": "python",
   "pygments_lexer": "ipython3",
   "version": "3.12.0"
  }
 },
 "nbformat": 4,
 "nbformat_minor": 5
}
