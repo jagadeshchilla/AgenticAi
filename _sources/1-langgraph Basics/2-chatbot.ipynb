{
 "cells": [
  {
   "cell_type": "markdown",
   "metadata": {},
   "source": [
    "### Implementing simple Chatbot Using LangGraph"
   ]
  },
  {
   "cell_type": "code",
   "execution_count": 1,
   "metadata": {},
   "outputs": [],
   "source": [
    "from typing_extensions import TypedDict\n",
    "\n",
    "from langgraph.graph import StateGraph, START, END\n",
    "\n",
    "## Reducers\n",
    "from typing import Annotated\n",
    "from langgraph.graph.message import add_messages"
   ]
  },
  {
   "cell_type": "code",
   "execution_count": 2,
   "metadata": {},
   "outputs": [],
   "source": [
    "class State(TypedDict):\n",
    "    messages:Annotated[list,add_messages]"
   ]
  },
  {
   "cell_type": "code",
   "execution_count": 3,
   "metadata": {},
   "outputs": [],
   "source": [
    "import os\n",
    "from dotenv import load_dotenv\n",
    "load_dotenv()\n",
    "\n",
    "os.environ[\"OPENAI_API_KEY\"]=os.getenv(\"OPENAI_API_KEY\")\n",
    "os.environ[\"GROQ_API_KEY\"]=os.getenv(\"GROQ_API_KEY\")\n"
   ]
  },
  {
   "cell_type": "code",
   "execution_count": 4,
   "metadata": {},
   "outputs": [
    {
     "data": {
      "text/plain": [
       "AIMessage(content='Hello! How can I assist you today?', additional_kwargs={'refusal': None}, response_metadata={'token_usage': {'completion_tokens': 9, 'prompt_tokens': 8, 'total_tokens': 17, 'completion_tokens_details': {'accepted_prediction_tokens': 0, 'audio_tokens': 0, 'reasoning_tokens': 0, 'rejected_prediction_tokens': 0}, 'prompt_tokens_details': {'audio_tokens': 0, 'cached_tokens': 0}}, 'model_provider': 'openai', 'model_name': 'gpt-4o-2024-08-06', 'system_fingerprint': 'fp_65564d8ba5', 'id': 'chatcmpl-CU0xGEo69bJJ5k0518i5ORD5jHtDy', 'service_tier': 'default', 'finish_reason': 'stop', 'logprobs': None}, id='lc_run--1acdde10-b4d8-44be-b482-8517f33ec6f1-0', usage_metadata={'input_tokens': 8, 'output_tokens': 9, 'total_tokens': 17, 'input_token_details': {'audio': 0, 'cache_read': 0}, 'output_token_details': {'audio': 0, 'reasoning': 0}})"
      ]
     },
     "execution_count": 4,
     "metadata": {},
     "output_type": "execute_result"
    }
   ],
   "source": [
    "from langchain_openai import ChatOpenAI\n",
    "llm=ChatOpenAI(model=\"gpt-4o\")\n",
    "llm.invoke(\"Hello\")"
   ]
  },
  {
   "cell_type": "code",
   "execution_count": 6,
   "metadata": {},
   "outputs": [
    {
     "data": {
      "text/plain": [
       "AIMessage(content=\"<think>\\nOkay, so the user is Jagadesh and he likes to play cricket. Let me see how to respond appropriately. First, I should acknowledge his introduction and express interest in his hobby. Cricket is a popular sport, so maybe I can ask him about his favorite aspects of playing it. I should check if he plays often, what position he plays, or if he follows any particular teams. Also, maybe he has some favorite players or memorable matches he'd like to talk about. I need to keep the conversation engaging and open-ended to encourage him to share more. Let me make sure my response is friendly and not too formal. I'll start by thanking him for introducing himself and then ask some follow-up questions about his cricket experience.\\n</think>\\n\\nHey Jagadesh! Nice to meet you! 🏏 I love that you enjoy playing cricket—it's such an exciting game. Have you been playing for a while, or are you just getting into it? Do you prefer batting or bowling, or maybe fielding? Also, do you follow any particular teams or players? Let me know if you'd like to chat more about strategies, memorable matches, or even tips to improve your game!\", additional_kwargs={}, response_metadata={'token_usage': {'completion_tokens': 241, 'prompt_tokens': 19, 'total_tokens': 260, 'completion_time': 0.564609655, 'prompt_time': 0.00059063, 'queue_time': 0.05309315, 'total_time': 0.565200285}, 'model_name': 'qwen/qwen3-32b', 'system_fingerprint': 'fp_5cf921caa2', 'service_tier': 'on_demand', 'finish_reason': 'stop', 'logprobs': None, 'model_provider': 'groq'}, id='lc_run--58e39a57-b274-49bc-b900-0721b46b25f7-0', usage_metadata={'input_tokens': 19, 'output_tokens': 241, 'total_tokens': 260})"
      ]
     },
     "execution_count": 6,
     "metadata": {},
     "output_type": "execute_result"
    }
   ],
   "source": [
    "from langchain_groq import ChatGroq\n",
    "\n",
    "llm_groq=ChatGroq(model=\"qwen/qwen3-32b\")\n",
    "llm_groq.invoke(\"Hey I am jagadesh and i like to play cricket\")"
   ]
  },
  {
   "cell_type": "markdown",
   "metadata": {},
   "source": [
    "### We Will start With Creating Nodes"
   ]
  },
  {
   "cell_type": "code",
   "execution_count": 7,
   "metadata": {},
   "outputs": [],
   "source": [
    "def superbot(state:State):\n",
    "    return {\"messages\":[llm_groq.invoke(state['messages'])]}"
   ]
  },
  {
   "cell_type": "code",
   "execution_count": 8,
   "metadata": {},
   "outputs": [
    {
     "data": {
      "image/png": "[encoded data removed]",
      "text/plain": [
       "<IPython.core.display.Image object>"
      ]
     },
     "metadata": {},
     "output_type": "display_data"
    }
   ],
   "source": [
    "graph=StateGraph(State)\n",
    "\n",
    "## node\n",
    "graph.add_node(\"SuperBot\",superbot)\n",
    "## Edges\n",
    "\n",
    "graph.add_edge(START,\"SuperBot\")\n",
    "graph.add_edge(\"SuperBot\",END)\n",
    "\n",
    "\n",
    "graph_builder=graph.compile()\n",
    "\n",
    "\n",
    "## Display\n",
    "from IPython.display import Image, display\n",
    "display(Image(graph_builder.get_graph().draw_mermaid_png()))"
   ]
  },
  {
   "cell_type": "code",
   "execution_count": 9,
   "metadata": {},
   "outputs": [
    {
     "data": {
      "text/plain": [
       "{'messages': [HumanMessage(content='Hi,My name is jagadesh And I like cricket', additional_kwargs={}, response_metadata={}, id='c108187b-f318-4776-9cff-2283b892ac26'),\n",
       "  AIMessage(content=\"<think>\\nOkay, the user introduced himself as Jagadesh and mentioned he likes cricket. I should acknowledge his name first and then delve into his interest in cricket. Let me see... I need to respond in a friendly and engaging way. Maybe ask him to share more about why he likes cricket. He might appreciate some validation of his interest, so pointing out cricket's popularity and excitement could be good. Also, I should invite him to talk about specific aspects like favorite teams, players, or memorable matches. I should keep the tone positive and open-ended to encourage further conversation. Let me check if there's any cultural context I should consider, but since he's using English, it's probably safe to proceed. Avoid any assumptions beyond what he's stated. Make sure the response is concise but covers enough to prompt a detailed reply from him. Alright, time to put it all together.\\n</think>\\n\\nHello Jagadesh! It's great to meet you! 🏏 Cricket is an amazing sport—so dynamic and full of passion. Do you follow any specific teams or players? I'd love to hear what draws you to the game! Whether it's the strategy, the thrill of a close match, or your favorite moments to watch, feel free to share! 😊\", additional_kwargs={}, response_metadata={'token_usage': {'completion_tokens': 255, 'prompt_tokens': 19, 'total_tokens': 274, 'completion_time': 0.6925116, 'prompt_time': 0.000835387, 'queue_time': 0.054637473, 'total_time': 0.693346987}, 'model_name': 'qwen/qwen3-32b', 'system_fingerprint': 'fp_5cf921caa2', 'service_tier': 'on_demand', 'finish_reason': 'stop', 'logprobs': None, 'model_provider': 'groq'}, id='lc_run--833af730-761d-4a02-803d-4620f7d3e7d2-0', usage_metadata={'input_tokens': 19, 'output_tokens': 255, 'total_tokens': 274})]}"
      ]
     },
     "execution_count": 9,
     "metadata": {},
     "output_type": "execute_result"
    }
   ],
   "source": [
    "## Invocation\n",
    "\n",
    "graph_builder.invoke({'messages':\"Hi,My name is jagadesh And I like cricket\"})"
   ]
  },
  {
   "cell_type": "markdown",
   "metadata": {},
   "source": [
    "#### Streaming The responses"
   ]
  },
  {
   "cell_type": "code",
   "execution_count": null,
   "metadata": {},
   "outputs": [
    {
     "name": "stdout",
     "output_type": "stream",
     "text": [
      "{'SuperBot': {'messages': [AIMessage(content=\"<think>\\nOkay, the user introduced themselves as Jagadesh. I should respond warmly and offer help. Maybe say hello and ask how I can assist them. Keep it friendly and open-ended. Make sure to use their name to personalize the interaction. Let them know I'm here to answer questions or help with any tasks. Keep the tone positive and approachable.\\n</think>\\n\\nHello Jagadesh! Nice to meet you. How can I assist you today? Whether you have questions, need help with something specific, or just want to chat, I'm here for you! 😊\", additional_kwargs={}, response_metadata={'token_usage': {'completion_tokens': 116, 'prompt_tokens': 14, 'total_tokens': 130, 'completion_time': 0.253172536, 'prompt_time': 0.000538841, 'queue_time': 0.049930888, 'total_time': 0.253711377}, 'model_name': 'qwen/qwen3-32b', 'system_fingerprint': 'fp_5cf921caa2', 'service_tier': 'on_demand', 'finish_reason': 'stop', 'logprobs': None, 'model_provider': 'groq'}, id='lc_run--1f14c5c3-c30e-4462-9448-2c293ede5c96-0', usage_metadata={'input_tokens': 14, 'output_tokens': 116, 'total_tokens': 130})]}}\n"
     ]
    }
   ],
   "source": [
    "for event in graph_builder.stream({\"messages\":\"Hello My name is jagadesh\"}):\n",
    "    print(event)"
   ]
  },
  {
   "cell_type": "code",
   "execution_count": null,
   "metadata": {},
   "outputs": [],
   "source": []
  }
 ],
 "metadata": {
  "kernelspec": {
   "display_name": "Python 3",
   "language": "python",
   "name": "python3"
  },
  "language_info": {
   "codemirror_mode": {
    "name": "ipython",
    "version": 3
   },
   "file_extension": ".py",
   "mimetype": "text/x-python",
   "name": "python",
   "nbconvert_exporter": "python",
   "pygments_lexer": "ipython3",
   "version": "3.12.0"
  }
 },
 "nbformat": 4,
 "nbformat_minor": 2
}
