{
 "cells": [
  {
   "cell_type": "markdown",
   "metadata": {},
   "source": [
    "### Building Chatbot With Multiple Tools Using Langgraph\n",
    "\n",
    "#### Aim\n",
    "Create a chatbot with tool capabilities from arxiv, wikipedia search and some functions"
   ]
  },
  {
   "cell_type": "code",
   "execution_count": 1,
   "metadata": {},
   "outputs": [],
   "source": [
    "from langchain_community.tools import ArxivQueryRun,WikipediaQueryRun\n",
    "from langchain_community.utilities import WikipediaAPIWrapper,ArxivAPIWrapper"
   ]
  },
  {
   "cell_type": "code",
   "execution_count": 2,
   "metadata": {},
   "outputs": [
    {
     "name": "stdout",
     "output_type": "stream",
     "text": [
      "arxiv\n"
     ]
    }
   ],
   "source": [
    "api_wrapper_arxiv=ArxivAPIWrapper(top_k_results=2,doc_content_chars_max=500)\n",
    "arxiv=ArxivQueryRun(api_wrapper=api_wrapper_arxiv)\n",
    "print(arxiv.name)"
   ]
  },
  {
   "cell_type": "code",
   "execution_count": 3,
   "metadata": {},
   "outputs": [
    {
     "data": {
      "text/plain": [
       "\"Published: 2024-07-22\\nTitle: Attention Is All You Need But You Don't Need All Of It For Inference of Large Language Models\\nAuthors: Georgy Tyukin, Gbetondji J-S Dovonon, Jean Kaddour, Pasquale Minervini\\nSummary: The inference demand for LLMs has skyrocketed in recent months, and serving\\nmodels with low latencies remains challenging due to the quadratic input length\\ncomplexity of the attention layers. In this work, we investigate the effect of\\ndropping MLP and attention layers at inference time o\""
      ]
     },
     "execution_count": 3,
     "metadata": {},
     "output_type": "execute_result"
    }
   ],
   "source": [
    "arxiv.invoke(\"Attention is all you need\")"
   ]
  },
  {
   "cell_type": "code",
   "execution_count": 4,
   "metadata": {},
   "outputs": [
    {
     "data": {
      "text/plain": [
       "'wikipedia'"
      ]
     },
     "execution_count": 4,
     "metadata": {},
     "output_type": "execute_result"
    }
   ],
   "source": [
    "api_wrapper_wiki=WikipediaAPIWrapper(top_k_results=1,doc_content_chars_max=500)\n",
    "wiki=WikipediaQueryRun(api_wrapper=api_wrapper_wiki)\n",
    "wiki.name"
   ]
  },
  {
   "cell_type": "code",
   "execution_count": 5,
   "metadata": {},
   "outputs": [
    {
     "data": {
      "text/plain": [
       "'Page: Machine learning\\nSummary: Machine learning (ML) is a field of study in artificial intelligence concerned with the development and study of statistical algorithms that can learn from data and generalise to unseen data, and thus perform tasks without explicit instructions. Within a subdiscipline in machine learning, advances in the field of deep learning have allowed neural networks, a class of statistical algorithms, to surpass many previous machine learning approaches in performance.\\nML fi'"
      ]
     },
     "execution_count": 5,
     "metadata": {},
     "output_type": "execute_result"
    }
   ],
   "source": [
    "wiki.invoke(\"What is machine learning\")"
   ]
  },
  {
   "cell_type": "code",
   "execution_count": 6,
   "metadata": {},
   "outputs": [],
   "source": [
    "from dotenv import load_dotenv\n",
    "load_dotenv()\n",
    "\n",
    "import os\n",
    "\n",
    "os.environ[\"TAVILY_API_KEY\"]=os.getenv(\"TAVILY_API_KEY\")\n",
    "os.environ[\"GROQ_API_KEY\"]=os.getenv(\"GROQ_API_KEY\")\n",
    "\n"
   ]
  },
  {
   "cell_type": "code",
   "execution_count": 7,
   "metadata": {},
   "outputs": [
    {
     "name": "stderr",
     "output_type": "stream",
     "text": [
      "C:\\Users\\Welcome\\AppData\\Local\\Temp\\ipykernel_27760\\3584238.py:4: LangChainDeprecationWarning: The class `TavilySearchResults` was deprecated in LangChain 0.3.25 and will be removed in 1.0. An updated version of the class exists in the `langchain-tavily package and should be used instead. To use it run `pip install -U `langchain-tavily` and import as `from `langchain_tavily import TavilySearch``.\n",
      "  tavily = TavilySearchResults()\n"
     ]
    }
   ],
   "source": [
    "### Tavily Search Tool\n",
    "from langchain_community.tools.tavily_search import TavilySearchResults\n",
    "\n",
    "tavily = TavilySearchResults()"
   ]
  },
  {
   "cell_type": "code",
   "execution_count": 8,
   "metadata": {},
   "outputs": [
    {
     "data": {
      "text/plain": [
       "[{'title': 'Daily AI Agent News - March 2025',\n",
       "  'url': 'https://aiagentstore.ai/ai-agent-news/2025-march',\n",
       "  'content': 'March 3, 2025 — Today marked significant advancements in AI agent development, with major players unveiling cutting-edge innovations. At Mobile World Congress 2025, Samsung showcased its expanded Galaxy AI ecosystem, including the Galaxy S25 Edge—the slimmest device in the series—and Project Moohan, its first XR headset. The company highlighted AI-driven health features like Energy Score and Sleep Insights, which integrate with SmartThings for personalized wellness management. [...] OpenAI’s o3 model continues to dominate scientific problem-solving benchmarks, while Meta’s AI-driven productivity tools reportedly reduced HR case resolution times by 36%. Meanwhile, Elon Musk’s Grok 3 entered final testing, promising unprecedented reasoning capabilities for consumer-facing applications. [...] Meanwhile, Sam Altman highlighted OpenAI\\'s recent scientific milestones, calling them among the \"most impressive breakthroughs of recent decades.\" This announcement triggered a surge in AI-related cryptocurrencies, with SingularityNET (AGIX) rising 12.3% and Fetch.ai (FET) gaining 9.8% within hours. The market\\'s \"Fear & Greed Index\" for AI tokens shifted to \"Greedy,\" reflecting heightened investor confidence.',\n",
       "  'score': 0.93525803},\n",
       " {'title': 'Top 5 AI trends in March 2025: AI agents, smarter supply ...',\n",
       "  'url': 'https://www.neudesic.com/blog/top-5-ai-trends-march-2025/',\n",
       "  'content': 'March 2025 has brought a fresh wave of AI innovations that go beyond theoretical breakthroughs and translate directly into real-world impact. From OpenAI’s newly released tools for building AI agents to Microsoft’s external knowledge integration approach, this month’s highlights underscore how artificial intelligence is evolving in ways that matter today, not just tomorrow. Whether it’s optimizing supply chains, pushing the limits of robotics, or making AI systems smarter and more trustworthy, [...] Below, we delve into five top AI trends from March 2025 and explore the practical ways they’re changing industries—from retail to robotics—and setting the stage for what’s ahead. \\n\\n## 1. OpenAI Releases New Tools for Building AI Agents [...] natural way in a variety of domains.  The investment in physical AI, like Gemini Robotics, holds the potential to revolutionize industries such as manufacturing and healthcare, by enabling robots to take on tasks that require both complicated instructions and advanced motor skills.',\n",
       "  'score': 0.9016528},\n",
       " {'title': 'GPT 4.5 is out! — Weekly AI Newsletter (March 3rd 2025)',\n",
       "  'url': 'https://medium.com/nlplanet/gpt-4-5-is-out-weekly-ai-newsletter-march-3rd-2025-6b31dd83ca60',\n",
       "  'content': 'Sign up\\n\\nSign in\\n\\nSign up\\n\\nSign in\\n\\n## Generative AI\\n\\nGenerative AI\\n\\nExplanations of AI, machine learning, news, guides, courses, papers, and more.\\n\\n# GPT 4.5 is out! — Weekly AI Newsletter (March 3rd 2025)\\n\\n## Anthropic releases Claude 3.7 Sonnet, OpenAI expands Deep Research for Plus users, and Google launches new code assistant\\n\\nFabio Chiusano\\n\\n--\\n\\nListen\\n\\nShare\\n\\n## 😎 News From The Web\\n\\n## 📚 Guides From The Web\\n\\n## 🔬 Interesting Papers and Repositories\\n\\n## ✨ Extra Content [...] Thank you for reading!\\n\\n--\\n\\n--\\n\\nGenerative AI\\nGenerative AI\\n\\n## Published in Generative AI\\n\\nExplanations of AI, machine learning, news, guides, courses, papers, and more.\\n\\nFabio Chiusano\\nFabio Chiusano\\n\\n## Written by Fabio Chiusano\\n\\nI write about Artificial Intelligence news, guides, courses, papers, and more.\\n\\n## No responses yet\\n\\nHelp\\n\\nStatus\\n\\nAbout\\n\\nCareers\\n\\nPress\\n\\nBlog\\n\\nPrivacy\\n\\nRules\\n\\nTerms\\n\\nText to speech',\n",
       "  'score': 0.9006087},\n",
       " {'title': 'The latest AI news we announced in March',\n",
       "  'url': 'https://blog.google/technology/ai/google-ai-updates-march-2025/',\n",
       "  'content': '# The latest AI news we announced in March\\n\\nApr 04, 2025\\n\\nHere’s a recap of some of our biggest AI updates from March, including Gemini 2.5 Pro, expanded access to AI Overviews, the release of AI Mode and more.\\n\\nSuperG\\n\\n## General summary [...] Google made significant progress in AI during March. They expanded access to AI Overviews and introduced AI Mode in Search, making it easier to find answers and explore topics. They also released Gemini 2.5 Pro, their most intelligent AI model, and Gemini Robotics, which aims to bring AI into the physical world. Google is also using AI to help developers create applications, detect wildfires, and protect nature.\\n\\n## Shakespeare-ish [...] Google made significant progress in AI during March. They expanded access to AI Overviews and introduced AI Mode in Search, making it easier to find answers and explore topics. They also released Gemini 2.5 Pro, their most intelligent AI model, and Gemini Robotics, which aims to bring AI into the physical world. Google is also using AI to help developers create applications, detect wildfires, and protect nature.',\n",
       "  'score': 0.834852},\n",
       " {'title': 'Prince Harry, Meghan join call for ban on development of AI ...',\n",
       "  'url': 'https://abcnews.go.com/Business/wireStory/prince-harry-meghan-join-call-ban-development-ai-126745110',\n",
       "  'content': \"Also signing were AI pioneers Yoshua Bengio and Geoffrey Hinton, co-winners of the Turing Award, computer science's top prize. Hinton also won a Nobel Prize in physics last year. Both have been vocal in bringing attention to the dangers of a technology they helped create. [...] Confounding the broader debates is that the same companies that are striving toward what some call superintelligence and others call artificial general intelligence, or AGI, are also sometimes inflating the capabilities of their products, which can make them more marketable and have contributed to concerns about an AI bubble. OpenAI was recently met with ridicule from mathematicians and AI scientists when its researcher claimed ChatGPT had figured out unsolved math problems — when what it [...] ## Israel-Gaza live updates: Rubio, Vance criticize Israeli vote to annex West Bank\\n\\n## 16 dead after 'devastating' blast at Tennessee explosives plant, sheriff says\\n\\nFormer Irish President Mary Robinson and several British and European parliamentarians signed, as did actors Stephen Fry and Joseph Gordon-Levitt, and musician will.i.am, who has otherwise embraced AI in music creation.\",\n",
       "  'score': 0.5313802}]"
      ]
     },
     "execution_count": 8,
     "metadata": {},
     "output_type": "execute_result"
    }
   ],
   "source": [
    "tavily.invoke(\"Provide me the recent AI news for march 3rd 2025\")"
   ]
  },
  {
   "cell_type": "code",
   "execution_count": 9,
   "metadata": {},
   "outputs": [],
   "source": [
    "### Combine all the tools in the list\n",
    "\n",
    "tools=[arxiv,wiki,tavily]"
   ]
  },
  {
   "cell_type": "code",
   "execution_count": 12,
   "metadata": {},
   "outputs": [],
   "source": [
    "## Initialize my LLM model\n",
    "\n",
    "from langchain_groq import ChatGroq\n",
    "\n",
    "llm=ChatGroq(model=\"qwen/qwen3-32b\")\n",
    "\n",
    "llm_with_tools=llm.bind_tools(tools)"
   ]
  },
  {
   "cell_type": "code",
   "execution_count": 13,
   "metadata": {},
   "outputs": [
    {
     "data": {
      "text/plain": [
       "AIMessage(content='', additional_kwargs={'reasoning_content': 'Okay, the user is asking for recent AI news. I need to figure out which tool to use here. Let me check the available functions.\\n\\nFirst, there\\'s the arxiv function, which is for scientific papers in fields like Physics and Computer Science. But the user is asking for news, not academic papers. So maybe arxiv isn\\'t the best fit here.\\n\\nNext, the wikipedia function. Wikipedia does have information on AI, but it\\'s more of an encyclopedia. Recent news might not be up to date on Wikipedia since it takes time for articles to be updated. Plus, Wikipedia entries are more about established knowledge rather than the latest news.\\n\\nThen there\\'s the tavily_search_results_json function, which is described as a search engine optimized for current events. That sounds perfect for recent news. The user wants the latest updates, so using a search engine that can fetch current results makes sense.\\n\\nSo I should use tavily_search_results_json with the query \"recent AI News\". That should retrieve the most up-to-date information on AI news. I don\\'t need to use the other functions because they don\\'t specialize in current events. Let me make sure the parameters are correct. The function requires a query, and I\\'m providing \"recent AI News\", which is appropriate. Alright, that\\'s the tool to call.\\n', 'tool_calls': [{'id': 'kdab84ndp', 'function': {'arguments': '{\"query\":\"recent AI News\"}', 'name': 'tavily_search_results_json'}, 'type': 'function'}]}, response_metadata={'token_usage': {'completion_tokens': 295, 'prompt_tokens': 399, 'total_tokens': 694, 'completion_time': 0.991408575, 'prompt_time': 0.016728087, 'queue_time': 0.247118043, 'total_time': 1.008136662}, 'model_name': 'qwen/qwen3-32b', 'system_fingerprint': 'fp_d58dbe76cd', 'service_tier': 'on_demand', 'finish_reason': 'tool_calls', 'logprobs': None, 'model_provider': 'groq'}, id='lc_run--c9eacb93-a804-441e-9fc6-959fbbb6922b-0', tool_calls=[{'name': 'tavily_search_results_json', 'args': {'query': 'recent AI News'}, 'id': 'kdab84ndp', 'type': 'tool_call'}], usage_metadata={'input_tokens': 399, 'output_tokens': 295, 'total_tokens': 694})"
      ]
     },
     "execution_count": 13,
     "metadata": {},
     "output_type": "execute_result"
    }
   ],
   "source": [
    "from pprint import pprint\n",
    "from langchain_core.messages import AIMessage, HumanMessage\n",
    "llm_with_tools.invoke([HumanMessage(content=f\"What is the recent AI News\")])"
   ]
  },
  {
   "cell_type": "code",
   "execution_count": 14,
   "metadata": {},
   "outputs": [
    {
     "data": {
      "text/plain": [
       "[{'name': 'tavily_search_results_json',\n",
       "  'args': {'query': 'recent AI news'},\n",
       "  'id': 'nrre4b8nw',\n",
       "  'type': 'tool_call'}]"
      ]
     },
     "execution_count": 14,
     "metadata": {},
     "output_type": "execute_result"
    }
   ],
   "source": [
    "llm_with_tools.invoke([HumanMessage(content=f\"What is the recent AI News\")]).tool_calls"
   ]
  },
  {
   "cell_type": "code",
   "execution_count": 15,
   "metadata": {},
   "outputs": [],
   "source": [
    "## State Schema\n",
    "from typing_extensions import TypedDict\n",
    "from langchain_core.messages import AnyMessage\n",
    "from typing import Annotated\n",
    "from langgraph.graph.message import add_messages\n",
    "class State(TypedDict):\n",
    "    messages:Annotated[list[AnyMessage],add_messages]"
   ]
  },
  {
   "cell_type": "code",
   "execution_count": null,
   "metadata": {},
   "outputs": [
    {
     "data": {
      "image/png": "[encoded data removed]",
      "text/plain": [
       "<IPython.core.display.Image object>"
      ]
     },
     "metadata": {},
     "output_type": "display_data"
    }
   ],
   "source": [
    "### Entire Chatbot With LangGraph\n",
    "from IPython.display import Image, display\n",
    "from langgraph.graph import StateGraph, START, END\n",
    "from langgraph.prebuilt import ToolNode\n",
    "from langgraph.prebuilt import tools_condition\n",
    "\n",
    "### Node definition\n",
    "def tool_calling_llm(state:State):\n",
    "    return {\"messages\":[llm_with_tools.invoke(state[\"messages\"])]}\n",
    "\n",
    "# Build graph\n",
    "builder = StateGraph(State)\n",
    "builder.add_node(\"tool_calling_llm\", tool_calling_llm)\n",
    "builder.add_node(\"tools\", ToolNode(tools))\n",
    "\n",
    "builder.add_edge(START, \"tool_calling_llm\")\n",
    "builder.add_conditional_edges(\n",
    "    \"tool_calling_llm\",\n",
    "    # If the latest message (result) from assistant is a tool call -> tools_condition routes to tools\n",
    "    # If the latest message (result) from assistant is a not a tool call -> tools_condition routes to END\n",
    "    tools_condition,\n",
    ")\n",
    "builder.add_edge(\"tools\", END)\n",
    "\n",
    "\n",
    "graph = builder.compile()\n",
    "\n",
    "# View\n",
    "display(Image(graph.get_graph().draw_mermaid_png()))\n"
   ]
  },
  {
   "cell_type": "code",
   "execution_count": 17,
   "metadata": {},
   "outputs": [
    {
     "name": "stdout",
     "output_type": "stream",
     "text": [
      "================================\u001b[1m Human Message \u001b[0m=================================\n",
      "\n",
      "1706.03762\n",
      "==================================\u001b[1m Ai Message \u001b[0m==================================\n",
      "Tool Calls:\n",
      "  arxiv (s2gggg1xk)\n",
      " Call ID: s2gggg1xk\n",
      "  Args:\n",
      "    query: 1706.03762\n",
      "=================================\u001b[1m Tool Message \u001b[0m=================================\n",
      "Name: arxiv\n",
      "\n",
      "Published: 2023-08-02\n",
      "Title: Attention Is All You Need\n",
      "Authors: Ashish Vaswani, Noam Shazeer, Niki Parmar, Jakob Uszkoreit, Llion Jones, Aidan N. Gomez, Lukasz Kaiser, Illia Polosukhin\n",
      "Summary: The dominant sequence transduction models are based on complex recurrent or\n",
      "convolutional neural networks in an encoder-decoder configuration. The best\n",
      "performing models also connect the encoder and decoder through an attention\n",
      "mechanism. We propose a new simple network architecture, the Transformer, base\n"
     ]
    }
   ],
   "source": [
    "messages=graph.invoke({\"messages\":HumanMessage(content=\"1706.03762\")})\n",
    "for m in messages['messages']:\n",
    "    m.pretty_print()"
   ]
  },
  {
   "cell_type": "code",
   "execution_count": 18,
   "metadata": {},
   "outputs": [
    {
     "name": "stdout",
     "output_type": "stream",
     "text": [
      "================================\u001b[1m Human Message \u001b[0m=================================\n",
      "\n",
      "Provide me the top 10 recent AI news for MArch 3rd 2025\n",
      "==================================\u001b[1m Ai Message \u001b[0m==================================\n",
      "Tool Calls:\n",
      "  tavily_search_results_json (41p6th7nf)\n",
      " Call ID: 41p6th7nf\n",
      "  Args:\n",
      "    query: top 10 AI news March 3 2025\n",
      "=================================\u001b[1m Tool Message \u001b[0m=================================\n",
      "Name: tavily_search_results_json\n",
      "\n",
      "[{\"title\": \"Weekly AI News: 3 March 2025 - AIforBusiness.net\", \"url\": \"https://www.linkedin.com/pulse/weekly-ai-news-3-march-2025-aiforbusinessnet-johan-steyn-qrumf\", \"content\": \"This week’s AI update explores some of the most impactful developments shaping technology and society. OpenAI has unveiled GPT-4.5, a cutting-edge model with enhanced intuition and emotional intelligence. While its capabilities push AI closer to human-like perception, its high computational demands raise concerns about accessibility, particularly for smaller businesses. [...] A thought-provoking analysis in the Daily Maverick questions AI’s growing influence, warning that biases within AI systems could shape decision-making in unpredictable ways. As AI becomes more embedded in hiring, finance, and governance, are we truly in control?\\n\\nGoogle’s decision to ease restrictions on AI use for military and surveillance purposes has ignited debate over the ethical boundaries of AI deployment. Should corporations define these limits, or should governments step in? [...] Meanwhile, AI is revolutionising taxation. The IMF reports that governments are leveraging AI to detect fraud and streamline audits, while taxpayers benefit from automated filing systems. However, privacy and fairness remain key concerns.\", \"score\": 0.91288006}, {\"title\": \"Top Viral AI & Tech News (March 3 - March 7, 2025)\", \"url\": \"https://www.youtube.com/watch?v=n0icz4P221E\", \"content\": \"guys so china has an ai breakthrough with a company called a startup called monica and they recently released manuse it's an ai agent that's going to be capable of independently planning and executing the most complex tasks so this is going to be a development that's pretty close to deepseek however this is a more advanced innovation and so this is a significant milestone in ai autonomy this is changing the game you guys we're talking about automating intricate processes reducing the need for [...] technology is going to be here next year that we're not even talking about because we weren't talking about quantum computing a year two years ago we weren't aside from like movies and stuff you know we weren't talking about super ai i mean ash probably was a year two year two years ago but it's like such exciting times such exciting times all right let's go to the next piece y'all got me going in the comments all right so next piece of news ai is taking over dating apps so matchgroup which is [...] mentioned earlier how especially with quantum computing we're getting into limitless drug discoveries so now they can cure almost anything maybe you know they're trying to take a little ethical stand and you know um halt the progress towards artificial super intelligence where ai surpasses human capacity um so it's definitely a very interesting time i'm interested to see what you guys think what do you guys think about a future where anything can be cured any ailment any condition this is the\", \"score\": 0.8825193}, {\"title\": \"Daily AI Agent News - March 2025\", \"url\": \"https://aiagentstore.ai/ai-agent-news/2025-march\", \"content\": \"Microsoft reiterated its $80B AI infrastructure investment amid reports of canceled data center leases, while Shield AI raised $240M at a $5.3B valuation to scale autonomous military aircraft systems. Alibaba announced a record $53B investment in AI/cloud infrastructure, signaling China’s intensified AGI race. [...] In broadcast news, today's episode of \\\\Advancements\\\\ highlights ElizaChat's AI-driven mental health support and Landbase's workflow automation tools using Stanford-designed algorithms to optimize sales campaigns. Meanwhile, AI in Progress 2025 convenes Silicon Valley leaders to discuss capital, infrastructure, and application trends for next-gen manufacturing and data ecosystems. [...] NVIDIA’s GTC 2025 dominated headlines with major AI agent advancements, unveiling the Blackwell Ultra AI Factory Platform designed for industrial-scale reasoning and agentic AI workloads. The platform integrates open-source Llama Nemotron models optimized for building collaborative AI agents, while CEO Jensen Huang emphasized that agentic AI now requires 100x more computing power than anticipated in 2024.\", \"score\": 0.8690161}, {\"title\": \"March 2025: All AI updates from the past month\", \"url\": \"https://sdtimes.com/ai/march-2025-all-ai-updates-from-the-past-month/\", \"content\": \"The participating institutions include Caltech, the California State University system, Duke University, the University of Georgia, Harvard University, Howard University, Massachusetts Institute of Technology, the University of Michigan, the University of Mississippi, The Ohio State University, the University of Oxford, Sciences Po, Texas A&M University, Boston Children’s Hospital, and the Boston Public Library. [...] Claude will respond with direct citations of its web sources, allowing users to fact check the information.\\n\\nGoogle launches Canvas to enable easier collaboration with Gemini\\n\\nGoogle is making it easier for developers to collaborate with Gemini with the launch of Canvas, an interactive space to create and refine code. \\n\\nCanvas could be used to build reports, blog posts, study guides, visual timelines, interactive prototypes, code snippets, and more. [...] Additionally, Anthropic Console now supports the company’s latest model, Claude 3.7 Sonnet, and offers new capabilities to assist users in writing prompts for that model’s extended thinking mode, as well as setting the budget for extended thinking. \\n\\nSalesforce launches Agentforce 2dx\\n\\nAgentforce is the company’s platform for integrating AI agents into employee workflows, and Agentforce 2dx introduces new features that make it even easier for AI agents to be set up.\", \"score\": 0.8351749}, {\"title\": \"Top 10 in Tech – March 2025 - Digitopia\", \"url\": \"https://digitopia.co/blog/top-10-in-tech-march-2025/\", \"content\": \"Alibaba Cloud has launched “Qwen2.5-Omni-7B,” a powerful multimodal AI model that processes text, images, audio, and video, offering real-time text and speech responses. Designed for edge devices, it supports cost-effective AI agents like voice assistants and is open-sourced on Hugging Face and GitHub. This release comes amid a surge in China’s generative AI competition, sparked by DeepSeek’s open-source momentum. Alibaba is investing $53 billion over three years in AI and cloud infrastructure, [...] McDonald’s is modernizing its 43,000 restaurants with AI and edge computing to improve order accuracy, reduce equipment failures, and enhance staff and customer experiences. Partnering with Google Cloud, the company is deploying sensors and AI tools to monitor kitchen operations, predict maintenance issues, and enable voice AI at drive-throughs. It’s also developing a generative AI virtual manager to assist with tasks like scheduling. These efforts aim to boost efficiency, reduce stress for [...] OpenAI has upgraded its GPT-4o model to generate more realistic images and coherent text, replacing DALL-E 3 as the default image generator in ChatGPT. Trained using reinforcement learning from human feedback, with over 100 human trainers correcting AI-generated content, GPT-4o now supports features like transparent backgrounds and styled content generation, benefiting both consumers and businesses. OpenAI claims the model is already being used for tasks like creating logos and stock images,\", \"score\": 0.834852}]\n"
     ]
    }
   ],
   "source": [
    "messages=graph.invoke({\"messages\":HumanMessage(content=\"Provide me the top 10 recent AI news for MArch 3rd 2025\")})\n",
    "for m in messages['messages']:\n",
    "    m.pretty_print()"
   ]
  },
  {
   "cell_type": "code",
   "execution_count": 19,
   "metadata": {},
   "outputs": [
    {
     "name": "stdout",
     "output_type": "stream",
     "text": [
      "================================\u001b[1m Human Message \u001b[0m=================================\n",
      "\n",
      "What is machine learning\n",
      "==================================\u001b[1m Ai Message \u001b[0m==================================\n",
      "Tool Calls:\n",
      "  wikipedia (rfjqg01e8)\n",
      " Call ID: rfjqg01e8\n",
      "  Args:\n",
      "    query: machine learning\n",
      "=================================\u001b[1m Tool Message \u001b[0m=================================\n",
      "Name: wikipedia\n",
      "\n",
      "Page: Machine learning\n",
      "Summary: Machine learning (ML) is a field of study in artificial intelligence concerned with the development and study of statistical algorithms that can learn from data and generalise to unseen data, and thus perform tasks without explicit instructions. Within a subdiscipline in machine learning, advances in the field of deep learning have allowed neural networks, a class of statistical algorithms, to surpass many previous machine learning approaches in performance.\n",
      "ML fi\n"
     ]
    }
   ],
   "source": [
    "messages=graph.invoke({\"messages\":HumanMessage(content=\"What is machine learning\")})\n",
    "for m in messages['messages']:\n",
    "    m.pretty_print()"
   ]
  },
  {
   "cell_type": "code",
   "execution_count": null,
   "metadata": {},
   "outputs": [],
   "source": []
  },
  {
   "cell_type": "code",
   "execution_count": null,
   "metadata": {},
   "outputs": [],
   "source": []
  }
 ],
 "metadata": {
  "kernelspec": {
   "display_name": "Python 3",
   "language": "python",
   "name": "python3"
  },
  "language_info": {
   "codemirror_mode": {
    "name": "ipython",
    "version": 3
   },
   "file_extension": ".py",
   "mimetype": "text/x-python",
   "name": "python",
   "nbconvert_exporter": "python",
   "pygments_lexer": "ipython3",
   "version": "3.12.0"
  }
 },
 "nbformat": 4,
 "nbformat_minor": 2
}
