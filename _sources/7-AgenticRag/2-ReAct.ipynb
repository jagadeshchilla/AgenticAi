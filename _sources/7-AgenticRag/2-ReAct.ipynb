{
 "cells": [
  {
   "cell_type": "markdown",
   "id": "f7172573",
   "metadata": {},
   "source": [
    "### 🤖 Implement ReAct with LangGraph-What is ReAct?\n",
    "ReAct (Reasoning + Acting) is a framework where an LLM:\n",
    "\n",
    "- Reasons step-by-step (e.g. decomposes questions, makes decisions)\n",
    "\n",
    "- Acts by calling tools like search, calculators, or retrievers\n",
    "\n",
    "This makes it perfect for Agentic RAG:\n",
    "✅ Think → Retrieve → Observe → Reflect → Final Answer"
   ]
  },
  {
   "cell_type": "code",
   "execution_count": 2,
   "id": "325681f3",
   "metadata": {},
   "outputs": [
    {
     "name": "stderr",
     "output_type": "stream",
     "text": [
      "USER_AGENT environment variable not set, consider setting it to identify your requests.\n"
     ]
    }
   ],
   "source": [
    "import os\n",
    "from langgraph.prebuilt import create_react_agent\n",
    "from langchain_core.tools import Tool\n",
    "from langchain_community.tools import WikipediaQueryRun\n",
    "from langchain_community.utilities import WikipediaAPIWrapper\n",
    "from langchain_community.vectorstores import FAISS\n",
    "from langchain_openai import OpenAIEmbeddings\n",
    "from langchain_community.document_loaders import WebBaseLoader\n",
    "from langchain_text_splitters import RecursiveCharacterTextSplitter\n",
    "from langgraph.graph import END\n",
    "from langgraph.graph import StateGraph\n",
    "from typing import Annotated, TypedDict, Sequence\n",
    "from langchain_core.messages import BaseMessage, HumanMessage, AIMessage\n",
    "from langgraph.graph.message import add_messages"
   ]
  },
  {
   "cell_type": "code",
   "execution_count": 3,
   "id": "a362be75",
   "metadata": {},
   "outputs": [],
   "source": [
    "# --------------------------\n",
    "# 1. Create Retriever Tool\n",
    "# --------------------------\n",
    "\n",
    "# Load content from blog\n",
    "docs = WebBaseLoader(\"https://lilianweng.github.io/posts/2023-06-23-agent/\").load()\n",
    "splitter = RecursiveCharacterTextSplitter(chunk_size=500, chunk_overlap=50)\n",
    "chunks = splitter.split_documents(docs)\n",
    "\n",
    "embedding = OpenAIEmbeddings()\n",
    "vectorstore = FAISS.from_documents(chunks, embedding)\n",
    "retriever = vectorstore.as_retriever()"
   ]
  },
  {
   "cell_type": "code",
   "execution_count": 4,
   "id": "93297e2c",
   "metadata": {},
   "outputs": [
    {
     "data": {
      "text/plain": [
       "[Document(id='d8aa131b-78bf-4f10-9fae-a0838216a5c7', metadata={'source': 'https://lilianweng.github.io/posts/2023-06-23-agent/', 'title': \"LLM Powered Autonomous Agents | Lil'Log\", 'description': 'Building agents with LLM (large language model) as its core controller is a cool concept. Several proof-of-concepts demos, such as AutoGPT, GPT-Engineer and BabyAGI, serve as inspiring examples. The potentiality of LLM extends beyond generating well-written copies, stories, essays and programs; it can be framed as a powerful general problem solver.\\nAgent System Overview\\nIn a LLM-powered autonomous agent system, LLM functions as the agent’s brain, complemented by several key components:\\n\\nPlanning\\n\\nSubgoal and decomposition: The agent breaks down large tasks into smaller, manageable subgoals, enabling efficient handling of complex tasks.\\nReflection and refinement: The agent can do self-criticism and self-reflection over past actions, learn from mistakes and refine them for future steps, thereby improving the quality of final results.\\n\\n\\nMemory\\n\\nShort-term memory: I would consider all the in-context learning (See Prompt Engineering) as utilizing short-term memory of the model to learn.\\nLong-term memory: This provides the agent with the capability to retain and recall (infinite) information over extended periods, often by leveraging an external vector store and fast retrieval.\\n\\n\\nTool use\\n\\nThe agent learns to call external APIs for extra information that is missing from the model weights (often hard to change after pre-training), including current information, code execution capability, access to proprietary information sources and more.\\n\\n\\n\\n\\n\\t\\n\\tOverview of a LLM-powered autonomous agent system.\\n\\nComponent One: Planning\\nA complicated task usually involves many steps. An agent needs to know what they are and plan ahead.', 'language': 'en'}, page_content='Citation#\\nCited as:\\n\\nWeng, Lilian. (Jun 2023). “LLM-powered Autonomous Agents”. Lil’Log. https://lilianweng.github.io/posts/2023-06-23-agent/.'),\n",
       " Document(id='33ce643a-8921-44de-a054-0b9b788aa9ff', metadata={'source': 'https://lilianweng.github.io/posts/2023-06-23-agent/', 'title': \"LLM Powered Autonomous Agents | Lil'Log\", 'description': 'Building agents with LLM (large language model) as its core controller is a cool concept. Several proof-of-concepts demos, such as AutoGPT, GPT-Engineer and BabyAGI, serve as inspiring examples. The potentiality of LLM extends beyond generating well-written copies, stories, essays and programs; it can be framed as a powerful general problem solver.\\nAgent System Overview\\nIn a LLM-powered autonomous agent system, LLM functions as the agent’s brain, complemented by several key components:\\n\\nPlanning\\n\\nSubgoal and decomposition: The agent breaks down large tasks into smaller, manageable subgoals, enabling efficient handling of complex tasks.\\nReflection and refinement: The agent can do self-criticism and self-reflection over past actions, learn from mistakes and refine them for future steps, thereby improving the quality of final results.\\n\\n\\nMemory\\n\\nShort-term memory: I would consider all the in-context learning (See Prompt Engineering) as utilizing short-term memory of the model to learn.\\nLong-term memory: This provides the agent with the capability to retain and recall (infinite) information over extended periods, often by leveraging an external vector store and fast retrieval.\\n\\n\\nTool use\\n\\nThe agent learns to call external APIs for extra information that is missing from the model weights (often hard to change after pre-training), including current information, code execution capability, access to proprietary information sources and more.\\n\\n\\n\\n\\n\\t\\n\\tOverview of a LLM-powered autonomous agent system.\\n\\nComponent One: Planning\\nA complicated task usually involves many steps. An agent needs to know what they are and plan ahead.', 'language': 'en'}, page_content='Boiko et al. (2023) also looked into LLM-empowered agents for scientific discovery, to handle autonomous design, planning, and performance of complex scientific experiments. This agent can use tools to browse the Internet, read documentation, execute code, call robotics experimentation APIs and leverage other LLMs.\\nFor example, when requested to \"develop a novel anticancer drug\", the model came up with the following reasoning steps:'),\n",
       " Document(id='b3f49516-0fc6-466e-8220-45d4b82122f3', metadata={'source': 'https://lilianweng.github.io/posts/2023-06-23-agent/', 'title': \"LLM Powered Autonomous Agents | Lil'Log\", 'description': 'Building agents with LLM (large language model) as its core controller is a cool concept. Several proof-of-concepts demos, such as AutoGPT, GPT-Engineer and BabyAGI, serve as inspiring examples. The potentiality of LLM extends beyond generating well-written copies, stories, essays and programs; it can be framed as a powerful general problem solver.\\nAgent System Overview\\nIn a LLM-powered autonomous agent system, LLM functions as the agent’s brain, complemented by several key components:\\n\\nPlanning\\n\\nSubgoal and decomposition: The agent breaks down large tasks into smaller, manageable subgoals, enabling efficient handling of complex tasks.\\nReflection and refinement: The agent can do self-criticism and self-reflection over past actions, learn from mistakes and refine them for future steps, thereby improving the quality of final results.\\n\\n\\nMemory\\n\\nShort-term memory: I would consider all the in-context learning (See Prompt Engineering) as utilizing short-term memory of the model to learn.\\nLong-term memory: This provides the agent with the capability to retain and recall (infinite) information over extended periods, often by leveraging an external vector store and fast retrieval.\\n\\n\\nTool use\\n\\nThe agent learns to call external APIs for extra information that is missing from the model weights (often hard to change after pre-training), including current information, code execution capability, access to proprietary information sources and more.\\n\\n\\n\\n\\n\\t\\n\\tOverview of a LLM-powered autonomous agent system.\\n\\nComponent One: Planning\\nA complicated task usually involves many steps. An agent needs to know what they are and plan ahead.', 'language': 'en'}, page_content='Or\\n@article{weng2023agent,\\n  title   = \"LLM-powered Autonomous Agents\",\\n  author  = \"Weng, Lilian\",\\n  journal = \"lilianweng.github.io\",\\n  year    = \"2023\",\\n  month   = \"Jun\",\\n  url     = \"https://lilianweng.github.io/posts/2023-06-23-agent/\"\\n}\\nReferences#\\n[1] Wei et al. “Chain of thought prompting elicits reasoning in large language models.” NeurIPS 2022\\n[2] Yao et al. “Tree of Thoughts: Dliberate Problem Solving with Large Language Models.” arXiv preprint arXiv:2305.10601 (2023).'),\n",
       " Document(id='dca01e5f-38cc-43ef-a4e2-a9e7591edba6', metadata={'source': 'https://lilianweng.github.io/posts/2023-06-23-agent/', 'title': \"LLM Powered Autonomous Agents | Lil'Log\", 'description': 'Building agents with LLM (large language model) as its core controller is a cool concept. Several proof-of-concepts demos, such as AutoGPT, GPT-Engineer and BabyAGI, serve as inspiring examples. The potentiality of LLM extends beyond generating well-written copies, stories, essays and programs; it can be framed as a powerful general problem solver.\\nAgent System Overview\\nIn a LLM-powered autonomous agent system, LLM functions as the agent’s brain, complemented by several key components:\\n\\nPlanning\\n\\nSubgoal and decomposition: The agent breaks down large tasks into smaller, manageable subgoals, enabling efficient handling of complex tasks.\\nReflection and refinement: The agent can do self-criticism and self-reflection over past actions, learn from mistakes and refine them for future steps, thereby improving the quality of final results.\\n\\n\\nMemory\\n\\nShort-term memory: I would consider all the in-context learning (See Prompt Engineering) as utilizing short-term memory of the model to learn.\\nLong-term memory: This provides the agent with the capability to retain and recall (infinite) information over extended periods, often by leveraging an external vector store and fast retrieval.\\n\\n\\nTool use\\n\\nThe agent learns to call external APIs for extra information that is missing from the model weights (often hard to change after pre-training), including current information, code execution capability, access to proprietary information sources and more.\\n\\n\\n\\n\\n\\t\\n\\tOverview of a LLM-powered autonomous agent system.\\n\\nComponent One: Planning\\nA complicated task usually involves many steps. An agent needs to know what they are and plan ahead.', 'language': 'en'}, page_content=\"LLM Powered Autonomous Agents | Lil'Log\\n\\n\\n\\n\\n\\n\\n\\n\\n\\n\\n\\n\\n\\n\\n\\n\\n\\n\\n\\n\\n\\n\\n\\n\\n\\n\\n\\n\\n\\n\\n\\n\\n\\n\\n\\n\\n\\n\\n\\nLil'Log\\n\\n\\n\\n\\n\\n\\n\\n\\n\\n\\n\\n\\n\\n\\n\\n\\n\\n|\\n\\n\\n\\n\\n\\n\\nPosts\\n\\n\\n\\n\\nArchive\\n\\n\\n\\n\\nSearch\\n\\n\\n\\n\\nTags\\n\\n\\n\\n\\nFAQ\\n\\n\\n\\n\\n\\n\\n\\n\\n\\n      LLM Powered Autonomous Agents\\n    \\nDate: June 23, 2023  |  Estimated Reading Time: 31 min  |  Author: Lilian Weng\\n\\n\\n \\n\\n\\nTable of Contents\\n\\n\\n\\nAgent System Overview\\n\\nComponent One: Planning\\n\\nTask Decomposition\\n\\nSelf-Reflection\\n\\n\\nComponent Two: Memory\\n\\nTypes of Memory\\n\\nMaximum Inner Product Search (MIPS)\")]"
      ]
     },
     "execution_count": 4,
     "metadata": {},
     "output_type": "execute_result"
    }
   ],
   "source": [
    "retriever.invoke(\"what are autonomous agents\")"
   ]
  },
  {
   "cell_type": "code",
   "execution_count": 5,
   "id": "16772a15",
   "metadata": {},
   "outputs": [],
   "source": [
    "def retriever_tool_func(query: str) -> str:\n",
    "    print(\"📚 Using RAGRetriever tool\")\n",
    "    docs = retriever.invoke(query)\n",
    "    return \"\\n\".join([doc.page_content for doc in docs])"
   ]
  },
  {
   "cell_type": "code",
   "execution_count": 6,
   "id": "42b7e841",
   "metadata": {},
   "outputs": [
    {
     "name": "stdout",
     "output_type": "stream",
     "text": [
      "📚 Using RAGRetriever tool\n"
     ]
    },
    {
     "data": {
      "text/plain": [
       "'Citation#\\nCited as:\\n\\nWeng, Lilian. (Jun 2023). “LLM-powered Autonomous Agents”. Lil’Log. https://lilianweng.github.io/posts/2023-06-23-agent/.\\nBoiko et al. (2023) also looked into LLM-empowered agents for scientific discovery, to handle autonomous design, planning, and performance of complex scientific experiments. This agent can use tools to browse the Internet, read documentation, execute code, call robotics experimentation APIs and leverage other LLMs.\\nFor example, when requested to \"develop a novel anticancer drug\", the model came up with the following reasoning steps:\\nOr\\n@article{weng2023agent,\\n  title   = \"LLM-powered Autonomous Agents\",\\n  author  = \"Weng, Lilian\",\\n  journal = \"lilianweng.github.io\",\\n  year    = \"2023\",\\n  month   = \"Jun\",\\n  url     = \"https://lilianweng.github.io/posts/2023-06-23-agent/\"\\n}\\nReferences#\\n[1] Wei et al. “Chain of thought prompting elicits reasoning in large language models.” NeurIPS 2022\\n[2] Yao et al. “Tree of Thoughts: Dliberate Problem Solving with Large Language Models.” arXiv preprint arXiv:2305.10601 (2023).\\nLLM Powered Autonomous Agents | Lil\\'Log\\n\\n\\n\\n\\n\\n\\n\\n\\n\\n\\n\\n\\n\\n\\n\\n\\n\\n\\n\\n\\n\\n\\n\\n\\n\\n\\n\\n\\n\\n\\n\\n\\n\\n\\n\\n\\n\\n\\n\\nLil\\'Log\\n\\n\\n\\n\\n\\n\\n\\n\\n\\n\\n\\n\\n\\n\\n\\n\\n\\n|\\n\\n\\n\\n\\n\\n\\nPosts\\n\\n\\n\\n\\nArchive\\n\\n\\n\\n\\nSearch\\n\\n\\n\\n\\nTags\\n\\n\\n\\n\\nFAQ\\n\\n\\n\\n\\n\\n\\n\\n\\n\\n      LLM Powered Autonomous Agents\\n    \\nDate: June 23, 2023  |  Estimated Reading Time: 31 min  |  Author: Lilian Weng\\n\\n\\n \\n\\n\\nTable of Contents\\n\\n\\n\\nAgent System Overview\\n\\nComponent One: Planning\\n\\nTask Decomposition\\n\\nSelf-Reflection\\n\\n\\nComponent Two: Memory\\n\\nTypes of Memory\\n\\nMaximum Inner Product Search (MIPS)'"
      ]
     },
     "execution_count": 6,
     "metadata": {},
     "output_type": "execute_result"
    }
   ],
   "source": [
    "retriever_tool_func(\"what are autonomous agents\")"
   ]
  },
  {
   "cell_type": "code",
   "execution_count": 10,
   "id": "744b3daf",
   "metadata": {},
   "outputs": [
    {
     "name": "stdout",
     "output_type": "stream",
     "text": [
      "RAGRetriever\n"
     ]
    }
   ],
   "source": [
    "retriever_tool=Tool(\n",
    "    name=\"RAGRetriever\",\n",
    "    description=\"Use this tool to fetch relevant knowledge base info\",\n",
    "    func=retriever_tool_func\n",
    ")\n",
    "retriever_tool\n",
    "print(retriever_tool.name)"
   ]
  },
  {
   "cell_type": "code",
   "execution_count": 7,
   "id": "104093c3",
   "metadata": {},
   "outputs": [
    {
     "data": {
      "text/plain": [
       "WikipediaQueryRun(api_wrapper=WikipediaAPIWrapper(wiki_client=<module 'wikipedia' from 'c:\\\\Users\\\\Welcome\\\\OneDrive\\\\Documents\\\\AI\\\\AgenticAi\\\\venv\\\\Lib\\\\site-packages\\\\wikipedia\\\\__init__.py'>, top_k_results=3, lang='en', load_all_available_meta=False, doc_content_chars_max=4000))"
      ]
     },
     "execution_count": 7,
     "metadata": {},
     "output_type": "execute_result"
    }
   ],
   "source": [
    "# Wikipedia tool\n",
    "wiki_tool = WikipediaQueryRun(api_wrapper=WikipediaAPIWrapper())\n",
    "wiki_tool"
   ]
  },
  {
   "cell_type": "code",
   "execution_count": 8,
   "id": "2e953f0d",
   "metadata": {},
   "outputs": [],
   "source": [
    "import os\n",
    "from langchain.chat_models import init_chat_model\n",
    "from dotenv import load_dotenv\n",
    "os.environ[\"OPENAI_API_KEY\"]=os.getenv(\"OPENAI_API_KEY\")\n",
    "llm=init_chat_model(\"openai:gpt-4o\")"
   ]
  },
  {
   "cell_type": "code",
   "execution_count": 11,
   "id": "3b77c9d4",
   "metadata": {},
   "outputs": [
    {
     "name": "stderr",
     "output_type": "stream",
     "text": [
      "C:\\Users\\Welcome\\AppData\\Local\\Temp\\ipykernel_7364\\329661528.py:10: LangGraphDeprecatedSinceV10: create_react_agent has been moved to `langchain.agents`. Please update your import to `from langchain.agents import create_agent`. Deprecated in LangGraph V1.0 to be removed in V2.0.\n",
      "  react_node=create_react_agent(llm,tools)\n"
     ]
    },
    {
     "data": {
      "image/png": "[encoded data removed]",
      "text/plain": [
       "<langgraph.graph.state.CompiledStateGraph object at 0x000001F88B5D6000>"
      ]
     },
     "execution_count": 11,
     "metadata": {},
     "output_type": "execute_result"
    }
   ],
   "source": [
    "# ----------------------------\n",
    "# 2. Define the Agent Node\n",
    "# ----------------------------\n",
    "\n",
    "\n",
    "\n",
    "tools = [retriever_tool, wiki_tool]\n",
    "\n",
    "## create the native Langgraph react agent\n",
    "react_node=create_react_agent(llm,tools)\n",
    "react_node"
   ]
  },
  {
   "cell_type": "code",
   "execution_count": 12,
   "id": "0708561d",
   "metadata": {},
   "outputs": [],
   "source": [
    "# --------------------------\n",
    "# 3. LangGraph Agent State\n",
    "# --------------------------\n",
    "\n",
    "class AgentState(TypedDict):\n",
    "    messages: Annotated[Sequence[BaseMessage], add_messages]"
   ]
  },
  {
   "cell_type": "code",
   "execution_count": 13,
   "id": "d49f8070",
   "metadata": {},
   "outputs": [
    {
     "data": {
      "image/png": "[encoded data removed]",
      "text/plain": [
       "<langgraph.graph.state.CompiledStateGraph object at 0x000001F8FF878770>"
      ]
     },
     "execution_count": 13,
     "metadata": {},
     "output_type": "execute_result"
    }
   ],
   "source": [
    "# --------------------------\n",
    "# 4. Build LangGraph Graph\n",
    "# --------------------------\n",
    "\n",
    "builder = StateGraph(AgentState)\n",
    "\n",
    "builder.add_node(\"react_agent\", react_node)\n",
    "builder.set_entry_point(\"react_agent\")\n",
    "builder.add_edge(\"react_agent\", END)\n",
    "\n",
    "graph = builder.compile()\n",
    "graph"
   ]
  },
  {
   "cell_type": "code",
   "execution_count": 14,
   "id": "c2d9a20d",
   "metadata": {},
   "outputs": [
    {
     "name": "stdout",
     "output_type": "stream",
     "text": [
      "📚 Using RAGRetriever tool\n",
      "\n",
      "✅ Final Answer:\n",
      " An \"agent loop\" concept involves the interaction and learning process in AI agents where a model iteratively improves its actions based on performance feedback, as part of reinforcement learning (RL). This idea emphasizes using a learning history to predict more effective actions in subsequent iterations. The goal is to enhance the RL process rather than develop a task-specific policy. LLM-empowered agents demonstrate this concept by autonomously conducting complex tasks like scientific experiments, leveraging internet browsing, reading documentation, and executing code for improved performance and decision-making.\n",
      "\n",
      "### Autonomous Agents (Wikipedia Summary)\n",
      "An autonomous agent in artificial intelligence is a system capable of performing complex tasks independently. It encompasses intelligent agents as entities that perceive environments, act autonomously to achieve goals, and may enhance performance through machine learning. Intelligent agents range from simple systems like thermostats to complex systems like humans or firms, driven by an objective function to maximize goal achievement. These agents are defined schematically as abstract functional systems, closely related to software agents, AI agents, and rational agents from economics.\n"
     ]
    }
   ],
   "source": [
    "# --------------------------\n",
    "# 5. Run the ReAct Agent\n",
    "# --------------------------\n",
    "\n",
    "if __name__ == \"__main__\":\n",
    "    user_query = \"What is an agent loop and how does Wikipedia describe autonomous agents?\"\n",
    "    state = {\"messages\": [HumanMessage(content=user_query)]}\n",
    "    result = graph.invoke(state)\n",
    "\n",
    "    print(\"\\n✅ Final Answer:\\n\", result[\"messages\"][-1].content)"
   ]
  },
  {
   "cell_type": "markdown",
   "id": "a1674ba0",
   "metadata": {},
   "source": [
    "### Tool creation for RAG agents with langgraph \n",
    "To create tools for RAG agents using LangGraph, you're essentially building LLM-invocable functions that your agent can call as part of its reasoning + acting loop (ReAct).\n",
    "\n",
    "LangGraph uses the Tool abstraction from LangChain and fully supports tools for:\n",
    "\n",
    "- RAG retrieval\n",
    "- Search\n",
    "- Wikipedia\n",
    "- SQL\n",
    "- Web APIs\n",
    "- Calculators, etc.\n",
    "\n",
    "#### ✅ Tool Design Requirements\n",
    "A LangGraph tool must:\n",
    "\n",
    "- Have a name\n",
    "- Have a description (used by the LLM to decide when to use it)\n",
    "- Have a callable func, accepting a single input (usually str) and returning str"
   ]
  },
  {
   "cell_type": "code",
   "execution_count": 15,
   "id": "c8d26a6e",
   "metadata": {},
   "outputs": [],
   "source": [
    "import os\n",
    "from typing import Annotated, Sequence, TypedDict\n",
    "from langchain_core.tools import Tool\n",
    "from langchain_community.vectorstores import FAISS\n",
    "from langchain_openai import OpenAIEmbeddings\n",
    "from langchain_community.document_loaders import WebBaseLoader, ArxivLoader, TextLoader\n",
    "from langchain_text_splitters import RecursiveCharacterTextSplitter\n",
    "from langchain_community.tools import WikipediaQueryRun\n",
    "from langchain_community.utilities import WikipediaAPIWrapper\n",
    "from langchain.agents import create_agent\n",
    "from langgraph.graph import StateGraph, END\n",
    "from langchain_core.messages import BaseMessage, HumanMessage\n",
    "from langgraph.graph.message import add_messages"
   ]
  },
  {
   "cell_type": "code",
   "execution_count": 16,
   "id": "f834985d",
   "metadata": {},
   "outputs": [
    {
     "data": {
      "text/plain": [
       "ChatOpenAI(client=<openai.resources.chat.completions.completions.Completions object at 0x000001F8FFF35AF0>, async_client=<openai.resources.chat.completions.completions.AsyncCompletions object at 0x000001F8FFF36ED0>, root_client=<openai.OpenAI object at 0x000001F88B5AB5C0>, root_async_client=<openai.AsyncOpenAI object at 0x000001F8FFF34680>, model_name='gpt-4o', model_kwargs={}, openai_api_key=SecretStr('**********'), stream_usage=True)"
      ]
     },
     "execution_count": 16,
     "metadata": {},
     "output_type": "execute_result"
    }
   ],
   "source": [
    "llm"
   ]
  },
  {
   "cell_type": "code",
   "execution_count": 18,
   "id": "6bed0361",
   "metadata": {},
   "outputs": [],
   "source": [
    "### Generic function to create a retrieval tool\n",
    "def make_retriever_tool_from_text(file, name, desc):\n",
    "    docs = TextLoader(file, encoding=\"utf-8\").load()\n",
    "    chunks = RecursiveCharacterTextSplitter(chunk_size=500, chunk_overlap=50).split_documents(docs)\n",
    "    vs = FAISS.from_documents(chunks, OpenAIEmbeddings())\n",
    "    retriever = vs.as_retriever()\n",
    "\n",
    "    def tool_func(query: str) -> str:\n",
    "        print(f\"📚 Using tool: {name}\")\n",
    "        results = retriever.invoke(query)\n",
    "        return \"\\n\\n\".join(doc.page_content for doc in results)\n",
    "    \n",
    "    return Tool(name=name, description=desc, func=tool_func)\n",
    "\n",
    "\n",
    "# Wikipedia Tool (already a tool, don't wrap in Tool())\n",
    "api_wrapper = WikipediaAPIWrapper()\n",
    "wiki_tool = WikipediaQueryRun(api_wrapper=api_wrapper)\n",
    "\n",
    "# ArXiv Tool\n",
    "def arxiv_search(query: str) -> str:\n",
    "    print(\"🧪 Searching ArXiv...\")\n",
    "    results = ArxivLoader(query).load()\n",
    "    return \"\\n\\n\".join(doc.page_content[:1000] for doc in results[:2]) or \"No papers found.\"\n",
    "\n",
    "arxiv_tool = Tool(\n",
    "    name=\"ArxivSearch\",\n",
    "    description=\"Use this tool to fetch recent academic papers on technical topics.\",\n",
    "    func=arxiv_search\n",
    ")"
   ]
  },
  {
   "cell_type": "code",
   "execution_count": 20,
   "id": "6f055f7b",
   "metadata": {},
   "outputs": [
    {
     "data": {
      "text/plain": [
       "Tool(name='InternalTechDocs', description='Search internal tech documents for proprietary architecture and methods.', func=<function make_retriever_tool_from_text.<locals>.tool_func at 0x000001F8C60C4680>)"
      ]
     },
     "execution_count": 20,
     "metadata": {},
     "output_type": "execute_result"
    }
   ],
   "source": [
    "internal_tool_1=make_retriever_tool_from_text(\n",
    "    \"sample_docs.txt\",\n",
    "    \"InternalTechDocs\",\n",
    "    \"Search internal tech documents for proprietary architecture and methods.\"\n",
    ")\n",
    "internal_tool_1"
   ]
  },
  {
   "cell_type": "code",
   "execution_count": 21,
   "id": "03d60a30",
   "metadata": {},
   "outputs": [
    {
     "data": {
      "text/plain": [
       "Tool(name='InternalResearchNotes', description='Search internal research notes for experimental results and agent designs.', func=<function make_retriever_tool_from_text.<locals>.tool_func at 0x000001F8FFDE3C40>)"
      ]
     },
     "execution_count": 21,
     "metadata": {},
     "output_type": "execute_result"
    }
   ],
   "source": [
    "internal_tool_2 = make_retriever_tool_from_text(\n",
    "    \"research_notes.txt\",\n",
    "    \"InternalResearchNotes\",\n",
    "    \"Search internal research notes for experimental results and agent designs.\"\n",
    ")\n",
    "internal_tool_2"
   ]
  },
  {
   "cell_type": "code",
   "execution_count": 22,
   "id": "99788378",
   "metadata": {},
   "outputs": [
    {
     "name": "stderr",
     "output_type": "stream",
     "text": [
      "C:\\Users\\Welcome\\AppData\\Local\\Temp\\ipykernel_7364\\1687477868.py:3: LangGraphDeprecatedSinceV10: create_react_agent has been moved to `langchain.agents`. Please update your import to `from langchain.agents import create_agent`. Deprecated in LangGraph V1.0 to be removed in V2.0.\n",
      "  react_node=create_react_agent(llm,tools)\n"
     ]
    },
    {
     "data": {
      "image/png": "[encoded data removed]",
      "text/plain": [
       "<langgraph.graph.state.CompiledStateGraph object at 0x000001F8FFE99400>"
      ]
     },
     "execution_count": 22,
     "metadata": {},
     "output_type": "execute_result"
    }
   ],
   "source": [
    "tools=[wiki_tool,arxiv_tool,internal_tool_1,internal_tool_2]\n",
    "\n",
    "react_node=create_react_agent(llm,tools)\n",
    "react_node"
   ]
  },
  {
   "cell_type": "code",
   "execution_count": 23,
   "id": "3b3957b5",
   "metadata": {},
   "outputs": [],
   "source": [
    "class AgentState(TypedDict):\n",
    "    messages: Annotated[Sequence[BaseMessage], add_messages]"
   ]
  },
  {
   "cell_type": "code",
   "execution_count": 24,
   "id": "279bca91",
   "metadata": {},
   "outputs": [
    {
     "data": {
      "image/png": "[encoded data removed]",
      "text/plain": [
       "<langgraph.graph.state.CompiledStateGraph object at 0x000001F8FFE99430>"
      ]
     },
     "execution_count": 24,
     "metadata": {},
     "output_type": "execute_result"
    }
   ],
   "source": [
    "builder = StateGraph(AgentState)\n",
    "builder.add_node(\"agentic_rag\", react_node)\n",
    "builder.set_entry_point(\"agentic_rag\")\n",
    "builder.add_edge(\"agentic_rag\", END)\n",
    "\n",
    "graph = builder.compile()\n",
    "graph\n"
   ]
  },
  {
   "cell_type": "code",
   "execution_count": 25,
   "id": "ee74476e",
   "metadata": {},
   "outputs": [
    {
     "name": "stdout",
     "output_type": "stream",
     "text": [
      "📚 Using tool: InternalResearchNotes\n",
      "🧪 Searching ArXiv...\n",
      "\n",
      "✅ Final Answer:\n",
      " ### Internal Research Notes on Transformer Variants\n",
      "\n",
      "Here's a summary of our recent experiments and findings related to transformer variants:\n",
      "\n",
      "1. **EfficientFormer**:\n",
      "   - Achieved a top-1 accuracy of 92.4% on TinyImageNet.\n",
      "   - Peak memory usage is 290MB with a batch size of 16.\n",
      "   - Target deployment is on Raspberry Pi 4.\n",
      "   - Works efficiently in quantized int8 mode with no significant accuracy drop.\n",
      "\n",
      "2. **Longformer**:\n",
      "   - Evaluated on customer support logs with a maximum token limit of 8192.\n",
      "   - Latency exceeds 1.2 seconds per query in a streaming setting.\n",
      "   - Chunk-based hybrid attention might reduce latency delays.\n",
      "\n",
      "3. **Reformer**:\n",
      "   - Experienced challenges such as bucket collisions and inconsistent loss spikes beyond 5k steps during training.\n",
      "   - Encountered sparse gradient updates during LSH attention.\n",
      "   - Solutions attempted included gradient clipping, warmup scheduler, and memory-efficient attention modules.\n",
      "\n",
      "4. **TinyBERT**:\n",
      "   - Utilized for classification, specifically support ticket priority tagging.\n",
      "   - Achieved an 87% F1 score, with some confusion in ambiguous class C.\n",
      "   - Performs well with a 2-layer FFN adapter for domain transfer.\n",
      "\n",
      "5. **Additional Experiments**:\n",
      "   - **FlashAttention2**: Integrated into LLaMA2, reducing context latency by approximately 50%.\n",
      "   - **Chain-of-Thought Prompting**: Outperformed direct answer prompting by 8% on logic tasks, with reflective prompting increasing accuracy by 3%.\n",
      "   - **Retrieval Experiments**: Analyzed hybrid dense + sparse retrievers, with FAISS being more efficient but slightly lower recall than Weaviate, which offers helpful GraphQL integration for filtering.\n",
      "   - **LoRA Tuning**: Used for adapter-based fine-tuning, reducing GPU memory footprint by 60% and compatible with PEFT library.\n",
      "\n",
      "### Recent ArXiv Suggestions\n",
      "\n",
      "Unfortunately, I encountered an error while trying to access recent papers on ArXiv. It appears there was an issue with the required package for document importation. If possible, please check the system's configuration or installation for the `PyMuPDF` package and try again.\n",
      "\n",
      "If you have any specific questions or require further information, please let me know!\n"
     ]
    }
   ],
   "source": [
    "query = \"What do our internal research notes say about transformer variants, and what does ArXiv suggest recently?\"\n",
    "\n",
    "state = {\"messages\": [HumanMessage(content=query)]}\n",
    "result = graph.invoke(state)\n",
    "\n",
    "print(\"\\n✅ Final Answer:\\n\", result[\"messages\"][-1].content)"
   ]
  },
  {
   "cell_type": "code",
   "execution_count": null,
   "id": "a9dd5754",
   "metadata": {},
   "outputs": [],
   "source": []
  }
 ],
 "metadata": {
  "kernelspec": {
   "display_name": "Python 3",
   "language": "python",
   "name": "python3"
  },
  "language_info": {
   "codemirror_mode": {
    "name": "ipython",
    "version": 3
   },
   "file_extension": ".py",
   "mimetype": "text/x-python",
   "name": "python",
   "nbconvert_exporter": "python",
   "pygments_lexer": "ipython3",
   "version": "3.12.0"
  }
 },
 "nbformat": 4,
 "nbformat_minor": 5
}
