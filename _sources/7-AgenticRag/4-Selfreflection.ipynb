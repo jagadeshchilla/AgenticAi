{
 "cells": [
  {
   "cell_type": "markdown",
   "id": "4a3679b0",
   "metadata": {},
   "source": [
    "### 🧠 What is Self-Reflection in RAG?\n",
    "Self-reflection = LLM evaluates its own output:\n",
    "“Is this clear, complete, and accurate?”\n",
    "\n",
    "#### Self-Reflection in RAG using LangGraph, we’ll design a workflow where the agent:\n",
    "\n",
    "1. Generates an initial answer using retrieved context\n",
    "2. Reflects on that answer with a dedicated self-critic LLM step\n",
    "3. If unsatisfied, it can revise the query, retrieve again, or regenerate the answer"
   ]
  },
  {
   "cell_type": "code",
   "execution_count": 1,
   "id": "e9f3ad8b",
   "metadata": {},
   "outputs": [],
   "source": [
    "import os\n",
    "from typing import List\n",
    "from pydantic import BaseModel\n",
    "from langchain_openai import OpenAIEmbeddings\n",
    "from langchain_core.documents import Document\n",
    "from langchain_text_splitters import RecursiveCharacterTextSplitter\n",
    "from langchain_community.vectorstores.faiss import FAISS\n",
    "from langchain_community.document_loaders import TextLoader\n",
    "from langgraph.graph import StateGraph, END"
   ]
  },
  {
   "cell_type": "code",
   "execution_count": null,
   "id": "eaf072a8",
   "metadata": {},
   "outputs": [],
   "source": [
    "### load llm models\n",
    "import os\n",
    "from langchain.chat_models import init_chat_model\n",
    "from dotenv import load_dotenv\n",
    "os.environ[\"OPENAI_API_KEY\"]=os.getenv(\"OPENAI_API_KEY\")\n",
    "llm=init_chat_model(\"openai:gpt-4o\")"
   ]
  },
  {
   "cell_type": "code",
   "execution_count": 4,
   "id": "4bc7a2e5",
   "metadata": {},
   "outputs": [],
   "source": [
    "docs = TextLoader(\"sample_docs.txt\").load()\n",
    "chunks = RecursiveCharacterTextSplitter(chunk_size=500, chunk_overlap=50).split_documents(docs)\n",
    "vectorstore = FAISS.from_documents(chunks, OpenAIEmbeddings())\n",
    "retriever = vectorstore.as_retriever()"
   ]
  },
  {
   "cell_type": "code",
   "execution_count": 5,
   "id": "b2246d4f",
   "metadata": {},
   "outputs": [],
   "source": [
    "# -------------------------\n",
    "# 2. State Definition\n",
    "# -------------------------\n",
    "class RAGReflectionState(BaseModel):\n",
    "    question: str\n",
    "    retrieved_docs: List[Document] = []\n",
    "    answer: str = \"\"\n",
    "    reflection: str = \"\"\n",
    "    revised: bool = False\n",
    "    attempts: int = 0"
   ]
  },
  {
   "cell_type": "code",
   "execution_count": 6,
   "id": "a454cafb",
   "metadata": {},
   "outputs": [],
   "source": [
    "# -------------------------\n",
    "# 3. Nodes\n",
    "# -------------------------\n",
    "\n",
    "# a. Retrieve\n",
    "def retrieve_docs(state: RAGReflectionState) -> RAGReflectionState:\n",
    "    docs = retriever.invoke(state.question)\n",
    "    return state.model_copy(update={\"retrieved_docs\": docs})\n",
    "\n",
    "# b. Generate Answer\n",
    "def generate_answer(state: RAGReflectionState) -> RAGReflectionState:\n",
    "    \n",
    "    context = \"\\n\\n\".join([doc.page_content for doc in state.retrieved_docs])\n",
    "    prompt = f\"\"\"\n",
    "Use the following context to answer the question:\n",
    "\n",
    "Context:\n",
    "{context}\n",
    " \n",
    "Question:\n",
    "{state.question}\n",
    "\"\"\"\n",
    "    answer = llm.invoke(prompt).content.strip()\n",
    "    return state.model_copy(update={\"answer\": answer, \"attempts\": state.attempts + 1})"
   ]
  },
  {
   "cell_type": "code",
   "execution_count": 7,
   "id": "de27da11",
   "metadata": {},
   "outputs": [],
   "source": [
    "# c. Self-Reflect\n",
    "def reflect_on_answer(state: RAGReflectionState) -> RAGReflectionState:\n",
    "    \n",
    "    prompt = f\"\"\"\n",
    "Reflect on the following answer to see if it fully addresses the question. \n",
    "State YES if it is complete and correct, or NO with an explanation.\n",
    "\n",
    "Question: {state.question}\n",
    "\n",
    "Answer: {state.answer}\n",
    "\n",
    "Respond like:\n",
    "Reflection: YES or NO\n",
    "Explanation: ...\n",
    "\"\"\"\n",
    "    result = llm.invoke(prompt).content\n",
    "    is_ok = \"reflection: yes\" in result.lower()\n",
    "    return state.model_copy(update={\"reflection\": result, \"revised\": not is_ok})"
   ]
  },
  {
   "cell_type": "code",
   "execution_count": 8,
   "id": "0a07cbb6",
   "metadata": {},
   "outputs": [],
   "source": [
    "# d. Finalizer\n",
    "def finalize(state: RAGReflectionState) -> RAGReflectionState:\n",
    "    return state"
   ]
  },
  {
   "cell_type": "code",
   "execution_count": 11,
   "id": "0eafcf84",
   "metadata": {},
   "outputs": [
    {
     "data": {
      "image/png": "[encoded data removed]",
      "text/plain": [
       "<langgraph.graph.state.CompiledStateGraph object at 0x000001A5A72AC4A0>"
      ]
     },
     "execution_count": 11,
     "metadata": {},
     "output_type": "execute_result"
    }
   ],
   "source": [
    "# -------------------------\n",
    "# 4. LangGraph DAG\n",
    "# -------------------------\n",
    "builder = StateGraph(RAGReflectionState)\n",
    "\n",
    "builder.add_node(\"retriever\", retrieve_docs)\n",
    "builder.add_node(\"responder\", generate_answer)\n",
    "builder.add_node(\"reflector\", reflect_on_answer)\n",
    "builder.add_node(\"done\", finalize)\n",
    "\n",
    "builder.set_entry_point(\"retriever\")\n",
    "\n",
    "builder.add_edge(\"retriever\", \"responder\")\n",
    "builder.add_edge(\"responder\", \"reflector\")\n",
    "builder.add_conditional_edges(\n",
    "    \"reflector\",\n",
    "    lambda s: \"done\" if not s.revised or s.attempts >= 2 else \"retriever\"\n",
    ")\n",
    "\n",
    "builder.add_edge(\"done\", END)\n",
    "\n",
    "graph = builder.compile()\n",
    "graph"
   ]
  },
  {
   "cell_type": "code",
   "execution_count": 12,
   "id": "3c3ed5e2",
   "metadata": {},
   "outputs": [
    {
     "name": "stdout",
     "output_type": "stream",
     "text": [
      "\n",
      "🧠 Final Answer:\n",
      " The question asks about transformer variants used in production deployments. Transformer models, derived from the original \"Attention is All You Need\" paper, have evolved into various specialized variants used in different environments. Some notable transformer variants that are commonly used or have been deployed in production include:\n",
      "\n",
      "1. **BERT (Bidirectional Encoder Representations from Transformers)**: Primarily used for tasks requiring understanding of the context in natural language processing.\n",
      "\n",
      "2. **GPT (Generative Pre-trained Transformer)**: Known for text generation tasks, with successive versions like GPT-2, GPT-3 offering improved capabilities in generating human-like text.\n",
      "\n",
      "3. **T5 (Text-to-Text Transfer Transformer)**: A versatile model that treats various NLP tasks in a text-to-text framework, enabling flexible applications across different tasks.\n",
      "\n",
      "4. **RoBERTa (A Robustly Optimized BERT Pretraining Approach)**: An enhanced version of BERT with improved training techniques and larger datasets.\n",
      "\n",
      "5. **DistilBERT**: A lighter, faster version of BERT, distilled down to reduce size while maintaining performance, useful for limited-resource environments.\n",
      "\n",
      "6. **Transformer-XL**: An architecture extending to long-range dependencies, suitable for sequential data where contexts are larger than the usual capacity.\n",
      "\n",
      "7. **XLNet**: An extension of the transformer model improving upon BERT, utilizing permutation-based language modeling to capture dependency more effectively.\n",
      "\n",
      "8. **Albert (A Lite BERT)**: Focuses on parameter efficiency and faster training while retaining high performance in tasks like reading comprehension and text understanding.\n",
      "\n",
      "These transformer variants are used across multiple industries, powering applications like chatbots, recommendation engines, voice assistants, and translation services. Their capacity to understand and generate human language advances capabilities in areas like customer support automation, content creation, and more.\n",
      "\n",
      "🔁 Reflection Log:\n",
      " Reflection: NO  \n",
      "Explanation: While the answer provides a comprehensive list of transformer variants and their applications, it lacks specific examples of production deployments in real-world environments or industries where these variants are actively used. Mentioning specific use cases or company implementations would strengthen the response by highlighting where and how these transformer models are implemented in practice. Additionally, the answer omits newer or less common variants that might also be relevant in certain production scenarios. Including such details would make the response more complete and directly aligned with the question about production deployments.\n",
      "🔄 Total Attempts: 2\n"
     ]
    }
   ],
   "source": [
    "# -------------------------\n",
    "# 5. Run the Agent\n",
    "# -------------------------\n",
    "if __name__ == \"__main__\":\n",
    "    user_query = \"What are the transformer variants in production deployments?\"\n",
    "    init_state = RAGReflectionState(question=user_query)\n",
    "    result = graph.invoke(init_state)\n",
    "\n",
    "    print(\"\\n🧠 Final Answer:\\n\", result[\"answer\"])\n",
    "    print(\"\\n🔁 Reflection Log:\\n\", result[\"reflection\"])\n",
    "    print(\"🔄 Total Attempts:\", result[\"attempts\"])"
   ]
  },
  {
   "cell_type": "code",
   "execution_count": null,
   "id": "68b4c8ef",
   "metadata": {},
   "outputs": [],
   "source": []
  }
 ],
 "metadata": {
  "kernelspec": {
   "display_name": "Python 3",
   "language": "python",
   "name": "python3"
  },
  "language_info": {
   "codemirror_mode": {
    "name": "ipython",
    "version": 3
   },
   "file_extension": ".py",
   "mimetype": "text/x-python",
   "name": "python",
   "nbconvert_exporter": "python",
   "pygments_lexer": "ipython3",
   "version": "3.12.0"
  }
 },
 "nbformat": 4,
 "nbformat_minor": 5
}
