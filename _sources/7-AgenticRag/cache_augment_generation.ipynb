{
 "cells": [
  {
   "cell_type": "markdown",
   "id": "5a86aa13",
   "metadata": {},
   "source": [
    "### What is Cache-Augmented Generation (CAG)?\n",
    "CAG is a retrieval-free approach that bypasses the usual step of querying external knowledge sources at inference time. Instead, it preloads relevant documents into the LLM's extended context window, precomputes the model’s key‑value (KV) cache, and reuses this during inference—so the model can generate responses without additional retrieval steps "
   ]
  },
  {
   "cell_type": "markdown",
   "id": "05987315",
   "metadata": {},
   "source": [
    "In simple terms\n",
    "**Cache-Augmented Generation (CAG)** is a **retrieval-free optimization of RAG**, designed to make LLM responses faster and cheaper *without losing access to external context*.\n",
    "\n",
    "Instead of performing **retrieval queries at inference time**, CAG **pre-loads the relevant context into the model once** (before inference) and **stores the model’s internal attention state (KV cache)** so it can be reused for subsequent queries.\n",
    "\n",
    "---\n",
    "\n",
    "## 🧠 Let’s unpack this step-by-step\n",
    "\n",
    "### 🧩 1. Reminder: How normal RAG works\n",
    "\n",
    "In **RAG**, every time you send a new query:\n",
    "\n",
    "1. The system searches a vector database (e.g., FAISS, Chroma, Pinecone)\n",
    "2. Retrieves top-k documents\n",
    "3. Adds them to the LLM prompt\n",
    "4. The LLM processes both the retrieved data and your question to answer.\n",
    "\n",
    "That means:\n",
    "\n",
    "* Each query repeats the **retrieval + embedding + re-encoding** cost\n",
    "* The LLM must **re-read all context tokens** every time\n",
    "* Latency grows with context length and retrieval time\n",
    "\n",
    "---\n",
    "\n",
    "### ⚡ 2. How **CAG** improves on this\n",
    "\n",
    "**Cache-Augmented Generation (CAG)** avoids redundant retrieval and re-encoding by caching the model’s *internal representation* of context.\n",
    "\n",
    "#### 🧠 Step-by-step:\n",
    "\n",
    "1. **Preload Context Once**\n",
    "\n",
    "   * Before answering questions, you feed the model all relevant background data (documents, codebase, knowledge base, etc.).\n",
    "   * The model reads and encodes these into its attention memory — the **key-value (KV) cache**.\n",
    "\n",
    "2. **Cache the KV State**\n",
    "\n",
    "   * The model’s transformer layers generate *keys and values* for every token, used during self-attention.\n",
    "   * These are stored and reused later (instead of recomputing).\n",
    "\n",
    "3. **Inference Time (Query Phase)**\n",
    "\n",
    "   * When a new question arrives, you don’t reload or re-embed the documents.\n",
    "   * You simply **reuse the cached KV states** — the model “remembers” the context instantly.\n",
    "   * The model can generate answers *as if it had already read those documents*, but without reprocessing them.\n",
    "\n",
    "✅ **No retrieval**\n",
    "✅ **No repeated encoding**\n",
    "✅ **Lower latency and cost**\n",
    "✅ **Faster multi-turn interactions**\n",
    "\n",
    "---\n",
    "\n",
    "### 🧩 3. Key Concept: KV Cache\n",
    "\n",
    "Every transformer maintains **Key–Value (KV) pairs** at each layer during attention:\n",
    "\n",
    "* **Key (K)** = representation of “what I contain”\n",
    "* **Value (V)** = representation of “what I contribute”\n",
    "* **Query (Q)** = current input’s request for relevant past info\n",
    "\n",
    "In normal generation, the LLM recomputes attention for all past tokens.\n",
    "\n",
    "In **CAG**, these KVs for the “context documents” are **precomputed and stored**, so the LLM just appends new queries to the existing attention window.\n",
    "\n",
    "Think of it like:\n",
    "\n",
    "> “The model has already read the textbook. Now it just reads the question and answers immediately — without reopening the book.”\n",
    "\n",
    "---\n",
    "\n",
    "## 🏗️ Architecture Overview\n",
    "\n",
    "```\n",
    "               ┌────────────────────────────┐\n",
    "               │  Preload Context (Offline) │\n",
    "               │   - Embed documents        │\n",
    "               │   - Run LLM once           │\n",
    "               │   - Store KV cache         │\n",
    "               └────────────┬───────────────┘\n",
    "                            │\n",
    "                            ▼\n",
    "   ┌──────────────────────────────────────────────┐\n",
    "   │             Inference / Query Time           │\n",
    "   │   - Load precomputed KV cache                │\n",
    "   │   - Inject user query                       │\n",
    "   │   - Generate answer instantly                │\n",
    "   └──────────────────────────────────────────────┘\n",
    "```\n",
    "\n",
    "## 🔬 Practical Example\n",
    "\n",
    "Imagine building a **domain-specific chatbot for a law firm**:\n",
    "\n",
    "* You preload all legal documents into the LLM context (via cache).\n",
    "* During daily use, the chatbot answers new queries instantly because it reuses the **cached KV state**.\n",
    "* It doesn’t re-query a database or re-tokenize the docs each time.\n",
    "\n",
    "This is **Cache-Augmented Generation** — the model “remembers” efficiently through cache, not retrieval.\n",
    "\n",
    "---\n",
    "\n",
    "## 🚀 Benefits\n",
    "\n",
    "* **Faster inference** (no retrieval latency)\n",
    "* **Lower cost** (reuse pre-encoded context)\n",
    "* **Scalable to multi-turn sessions**\n",
    "* **More stable outputs** (no retrieval randomness)\n",
    "* **Ideal for static or semi-static corpora**\n",
    "\n",
    "---\n",
    "\n",
    "## ⚠️ Limitations\n",
    "\n",
    "* Cache must fit within the model’s **context window limit** (e.g., 128K or 1M tokens)\n",
    "* Updating cached data requires recomputing\n",
    "* Not suitable for *rapidly changing* data sources\n",
    "\n",
    "\n",
    "\n"
   ]
  },
  {
   "cell_type": "code",
   "execution_count": 1,
   "id": "03e6e537",
   "metadata": {},
   "outputs": [
    {
     "data": {
      "text/plain": [
       "ChatOpenAI(client=<openai.resources.chat.completions.completions.Completions object at 0x000001FE4A0CC890>, async_client=<openai.resources.chat.completions.completions.AsyncCompletions object at 0x000001FE4A2E76E0>, root_client=<openai.OpenAI object at 0x000001FE47B3C2F0>, root_async_client=<openai.AsyncOpenAI object at 0x000001FE4A533AA0>, model_name='gpt-4o-mini', model_kwargs={}, openai_api_key=SecretStr('**********'), stream_usage=True)"
      ]
     },
     "execution_count": 1,
     "metadata": {},
     "output_type": "execute_result"
    }
   ],
   "source": [
    "import os\n",
    "from dotenv import load_dotenv\n",
    "load_dotenv()\n",
    "os.environ[\"OPENAI_API_KEY\"]=os.getenv(\"OPENAI_API_KEY\")\n",
    "\n",
    "from langchain.chat_models import init_chat_model\n",
    "\n",
    "llm=init_chat_model(\"openai:gpt-4o-mini\")\n",
    "\n",
    "llm"
   ]
  },
  {
   "cell_type": "code",
   "execution_count": 2,
   "id": "12d950ef",
   "metadata": {},
   "outputs": [],
   "source": [
    "### Cache variable\n",
    "Model_Cache={}"
   ]
  },
  {
   "cell_type": "code",
   "execution_count": 3,
   "id": "48802156",
   "metadata": {},
   "outputs": [],
   "source": [
    "import time\n",
    "\n",
    "def cache_model(query):\n",
    "    start_time=time.time()\n",
    "    if Model_Cache.get(query):\n",
    "        print(\"**CAche Hit**\")\n",
    "        end_time=time.time()\n",
    "        elapsed_time=end_time-start_time\n",
    "        print(f\"EXECUTION TIME: {elapsed_time:.2f} seconds\")\n",
    "        return Model_Cache.get(query)\n",
    "    else:\n",
    "        print(\"***CACHE MISS – EXECUTING MODEL***\")\n",
    "        start_time = time.time()\n",
    "        response = llm.invoke(query)\n",
    "        end_time = time.time()\n",
    "        elapsed = end_time - start_time\n",
    "        print(f\"EXECUTION TIME: {elapsed:.2f} seconds\")\n",
    "        Model_Cache[query] = response\n",
    "        return response\n"
   ]
  },
  {
   "cell_type": "code",
   "execution_count": 4,
   "id": "85b3c6ff",
   "metadata": {},
   "outputs": [
    {
     "name": "stdout",
     "output_type": "stream",
     "text": [
      "***CACHE MISS – EXECUTING MODEL***\n"
     ]
    },
    {
     "name": "stdout",
     "output_type": "stream",
     "text": [
      "EXECUTION TIME: 1.73 seconds\n"
     ]
    },
    {
     "data": {
      "text/plain": [
       "AIMessage(content='Hello! How can I assist you today?', additional_kwargs={'refusal': None}, response_metadata={'token_usage': {'completion_tokens': 9, 'prompt_tokens': 8, 'total_tokens': 17, 'completion_tokens_details': {'accepted_prediction_tokens': 0, 'audio_tokens': 0, 'reasoning_tokens': 0, 'rejected_prediction_tokens': 0}, 'prompt_tokens_details': {'audio_tokens': 0, 'cached_tokens': 0}}, 'model_name': 'gpt-4o-mini-2024-07-18', 'system_fingerprint': 'fp_560af6e559', 'id': 'chatcmpl-CWNfHoEtpgz2zVwkhZv0uSgL4dqWg', 'service_tier': 'default', 'finish_reason': 'stop', 'logprobs': None}, id='run--79c60541-63fe-4007-bf1d-3a19c277428e-0', usage_metadata={'input_tokens': 8, 'output_tokens': 9, 'total_tokens': 17, 'input_token_details': {'audio': 0, 'cache_read': 0}, 'output_token_details': {'audio': 0, 'reasoning': 0}})"
      ]
     },
     "execution_count": 4,
     "metadata": {},
     "output_type": "execute_result"
    }
   ],
   "source": [
    "response=cache_model(\"hi\")\n",
    "response"
   ]
  },
  {
   "cell_type": "code",
   "execution_count": 5,
   "id": "6407acf4",
   "metadata": {},
   "outputs": [
    {
     "data": {
      "text/plain": [
       "{'hi': AIMessage(content='Hello! How can I assist you today?', additional_kwargs={'refusal': None}, response_metadata={'token_usage': {'completion_tokens': 9, 'prompt_tokens': 8, 'total_tokens': 17, 'completion_tokens_details': {'accepted_prediction_tokens': 0, 'audio_tokens': 0, 'reasoning_tokens': 0, 'rejected_prediction_tokens': 0}, 'prompt_tokens_details': {'audio_tokens': 0, 'cached_tokens': 0}}, 'model_name': 'gpt-4o-mini-2024-07-18', 'system_fingerprint': 'fp_560af6e559', 'id': 'chatcmpl-CWNfHoEtpgz2zVwkhZv0uSgL4dqWg', 'service_tier': 'default', 'finish_reason': 'stop', 'logprobs': None}, id='run--79c60541-63fe-4007-bf1d-3a19c277428e-0', usage_metadata={'input_tokens': 8, 'output_tokens': 9, 'total_tokens': 17, 'input_token_details': {'audio': 0, 'cache_read': 0}, 'output_token_details': {'audio': 0, 'reasoning': 0}})}"
      ]
     },
     "execution_count": 5,
     "metadata": {},
     "output_type": "execute_result"
    }
   ],
   "source": [
    "Model_Cache"
   ]
  },
  {
   "cell_type": "code",
   "execution_count": 6,
   "id": "32188896",
   "metadata": {},
   "outputs": [
    {
     "name": "stdout",
     "output_type": "stream",
     "text": [
      "**CAche Hit**\n",
      "EXECUTION TIME: 0.00 seconds\n"
     ]
    },
    {
     "data": {
      "text/plain": [
       "AIMessage(content='Hello! How can I assist you today?', additional_kwargs={'refusal': None}, response_metadata={'token_usage': {'completion_tokens': 9, 'prompt_tokens': 8, 'total_tokens': 17, 'completion_tokens_details': {'accepted_prediction_tokens': 0, 'audio_tokens': 0, 'reasoning_tokens': 0, 'rejected_prediction_tokens': 0}, 'prompt_tokens_details': {'audio_tokens': 0, 'cached_tokens': 0}}, 'model_name': 'gpt-4o-mini-2024-07-18', 'system_fingerprint': 'fp_560af6e559', 'id': 'chatcmpl-CWNfHoEtpgz2zVwkhZv0uSgL4dqWg', 'service_tier': 'default', 'finish_reason': 'stop', 'logprobs': None}, id='run--79c60541-63fe-4007-bf1d-3a19c277428e-0', usage_metadata={'input_tokens': 8, 'output_tokens': 9, 'total_tokens': 17, 'input_token_details': {'audio': 0, 'cache_read': 0}, 'output_token_details': {'audio': 0, 'reasoning': 0}})"
      ]
     },
     "execution_count": 6,
     "metadata": {},
     "output_type": "execute_result"
    }
   ],
   "source": [
    "response=cache_model(\"hi\")\n",
    "response"
   ]
  },
  {
   "cell_type": "code",
   "execution_count": 7,
   "id": "8d65ff0a",
   "metadata": {},
   "outputs": [
    {
     "name": "stdout",
     "output_type": "stream",
     "text": [
      "***CACHE MISS – EXECUTING MODEL***\n"
     ]
    },
    {
     "name": "stdout",
     "output_type": "stream",
     "text": [
      "EXECUTION TIME: 12.08 seconds\n",
      "content=\"LangGraph is a powerful and innovative tool designed to enhance and simplify the process of natural language processing (NLP) through the application of graph theory and advanced algorithms. By leveraging the intrinsic relationships within data, LangGraph enables users to create complex linguistic structures that can be utilized across various applications, such as chatbots, sentiment analysis, and automated content generation.\\n\\nAt its core, LangGraph operates on the premise that language is inherently structured in ways that can be effectively modeled as a graph. In this representation, words and phrases are treated as nodes, while the relationships between them—such as syntactic dependencies, semantic similarities, or contextual relevance—are represented as edges. This graph-based approach allows for a richer understanding of language, as it captures nuances that traditional linear text processing methods might overlook.\\n\\nOne of the primary advantages of LangGraph is its ability to manage and analyze large datasets efficiently. In an era where data is generated at an unprecedented rate, having tools that can parse, analyze, and derive insights from massive corpuses of text is essential. LangGraph's architecture is optimized for scalability, which means it can handle multilingual datasets, varying text structures, and diverse contexts without compromising performance.\\n\\nThe versatility of LangGraph also extends to its application across different domains. In the field of educational technology, it can assist in creating personalized learning experiences by analyzing student interactions and tailoring content to individual needs. In marketing, LangGraph can help companies understand consumer sentiment through analysis of online reviews and social media conversations, thus enabling more effective branding strategies.\\n\\nMoreover, LangGraph is not just a passive analysis tool; it is equipped with machine learning capabilities that allow it to adapt and improve over time. As it processes more data, it learns from patterns and outcomes, thereby refining its predictive models. This continuous learning aspect makes LangGraph particularly valuable in dynamic fields where language and trends evolve rapidly.\\n\\nAnother significant aspect of LangGraph is its user-friendly interface, which is designed to accommodate users with varying levels of technical expertise. Whether you are a seasoned data scientist or a business professional seeking to leverage data-driven insights, LangGraph offers intuitive features that simplify complex operations. This democratization of technology ensures that organizations can harness the power of NLP without requiring extensive resources or specialized knowledge.\\n\\nThe integration capabilities of LangGraph also set it apart. It can seamlessly connect with existing data pipelines, databases, and other software tools, making it a versatile component of any tech stack. By facilitating smooth data transfers and interoperability, LangGraph ensures that insights can be quickly translated into actionable strategies.\\n\\nIn conclusion, LangGraph presents a transformative approach to natural language processing that combines the analytical rigour of graph theory with the flexibility and scalability demanded by modern data environments. Its ability to understand language as a dynamic, relational construct opens up myriad possibilities for innovation in various sectors—from education to marketing and beyond. As organizations increasingly recognize the value of data-driven decision-making, tools like LangGraph will play a pivotal role in shaping the future of how we interact with and understand language. With its advanced capabilities, user-friendly design, and adaptability, LangGraph is poised to become a cornerstone in the evolution of natural language processing technologies.\" additional_kwargs={'refusal': None} response_metadata={'token_usage': {'completion_tokens': 628, 'prompt_tokens': 18, 'total_tokens': 646, 'completion_tokens_details': {'accepted_prediction_tokens': 0, 'audio_tokens': 0, 'reasoning_tokens': 0, 'rejected_prediction_tokens': 0}, 'prompt_tokens_details': {'audio_tokens': 0, 'cached_tokens': 0}}, 'model_name': 'gpt-4o-mini-2024-07-18', 'system_fingerprint': 'fp_560af6e559', 'id': 'chatcmpl-CWNfJcarYsmtV6r1jtSh0iS9U1FGa', 'service_tier': 'default', 'finish_reason': 'stop', 'logprobs': None} id='run--5a1f8f0e-7922-461f-bf96-feb66d5ccf2c-0' usage_metadata={'input_tokens': 18, 'output_tokens': 628, 'total_tokens': 646, 'input_token_details': {'audio': 0, 'cache_read': 0}, 'output_token_details': {'audio': 0, 'reasoning': 0}}\n"
     ]
    }
   ],
   "source": [
    "query=\"can you give me 500 words on langgraph?\"\n",
    "response =cache_model(query)\n",
    "print(response)"
   ]
  },
  {
   "cell_type": "code",
   "execution_count": 8,
   "id": "b37e3685",
   "metadata": {},
   "outputs": [
    {
     "name": "stdout",
     "output_type": "stream",
     "text": [
      "**CAche Hit**\n",
      "EXECUTION TIME: 0.00 seconds\n",
      "content=\"LangGraph is a powerful and innovative tool designed to enhance and simplify the process of natural language processing (NLP) through the application of graph theory and advanced algorithms. By leveraging the intrinsic relationships within data, LangGraph enables users to create complex linguistic structures that can be utilized across various applications, such as chatbots, sentiment analysis, and automated content generation.\\n\\nAt its core, LangGraph operates on the premise that language is inherently structured in ways that can be effectively modeled as a graph. In this representation, words and phrases are treated as nodes, while the relationships between them—such as syntactic dependencies, semantic similarities, or contextual relevance—are represented as edges. This graph-based approach allows for a richer understanding of language, as it captures nuances that traditional linear text processing methods might overlook.\\n\\nOne of the primary advantages of LangGraph is its ability to manage and analyze large datasets efficiently. In an era where data is generated at an unprecedented rate, having tools that can parse, analyze, and derive insights from massive corpuses of text is essential. LangGraph's architecture is optimized for scalability, which means it can handle multilingual datasets, varying text structures, and diverse contexts without compromising performance.\\n\\nThe versatility of LangGraph also extends to its application across different domains. In the field of educational technology, it can assist in creating personalized learning experiences by analyzing student interactions and tailoring content to individual needs. In marketing, LangGraph can help companies understand consumer sentiment through analysis of online reviews and social media conversations, thus enabling more effective branding strategies.\\n\\nMoreover, LangGraph is not just a passive analysis tool; it is equipped with machine learning capabilities that allow it to adapt and improve over time. As it processes more data, it learns from patterns and outcomes, thereby refining its predictive models. This continuous learning aspect makes LangGraph particularly valuable in dynamic fields where language and trends evolve rapidly.\\n\\nAnother significant aspect of LangGraph is its user-friendly interface, which is designed to accommodate users with varying levels of technical expertise. Whether you are a seasoned data scientist or a business professional seeking to leverage data-driven insights, LangGraph offers intuitive features that simplify complex operations. This democratization of technology ensures that organizations can harness the power of NLP without requiring extensive resources or specialized knowledge.\\n\\nThe integration capabilities of LangGraph also set it apart. It can seamlessly connect with existing data pipelines, databases, and other software tools, making it a versatile component of any tech stack. By facilitating smooth data transfers and interoperability, LangGraph ensures that insights can be quickly translated into actionable strategies.\\n\\nIn conclusion, LangGraph presents a transformative approach to natural language processing that combines the analytical rigour of graph theory with the flexibility and scalability demanded by modern data environments. Its ability to understand language as a dynamic, relational construct opens up myriad possibilities for innovation in various sectors—from education to marketing and beyond. As organizations increasingly recognize the value of data-driven decision-making, tools like LangGraph will play a pivotal role in shaping the future of how we interact with and understand language. With its advanced capabilities, user-friendly design, and adaptability, LangGraph is poised to become a cornerstone in the evolution of natural language processing technologies.\" additional_kwargs={'refusal': None} response_metadata={'token_usage': {'completion_tokens': 628, 'prompt_tokens': 18, 'total_tokens': 646, 'completion_tokens_details': {'accepted_prediction_tokens': 0, 'audio_tokens': 0, 'reasoning_tokens': 0, 'rejected_prediction_tokens': 0}, 'prompt_tokens_details': {'audio_tokens': 0, 'cached_tokens': 0}}, 'model_name': 'gpt-4o-mini-2024-07-18', 'system_fingerprint': 'fp_560af6e559', 'id': 'chatcmpl-CWNfJcarYsmtV6r1jtSh0iS9U1FGa', 'service_tier': 'default', 'finish_reason': 'stop', 'logprobs': None} id='run--5a1f8f0e-7922-461f-bf96-feb66d5ccf2c-0' usage_metadata={'input_tokens': 18, 'output_tokens': 628, 'total_tokens': 646, 'input_token_details': {'audio': 0, 'cache_read': 0}, 'output_token_details': {'audio': 0, 'reasoning': 0}}\n"
     ]
    }
   ],
   "source": [
    "query=\"can you give me 500 words on langgraph?\"\n",
    "response =cache_model(query)\n",
    "print(response)"
   ]
  },
  {
   "cell_type": "code",
   "execution_count": 9,
   "id": "50bc19f8",
   "metadata": {},
   "outputs": [
    {
     "name": "stdout",
     "output_type": "stream",
     "text": [
      "***CACHE MISS – EXECUTING MODEL***\n",
      "EXECUTION TIME: 13.57 seconds\n",
      "content='LangGraph is a state-of-the-art language modeling framework designed to enhance natural language understanding and generation by utilizing graph-based structures. It leverages the concepts of graph theory to represent linguistic data in a way that captures the complex relationships between words, phrases, and ideas. The innovation behind LangGraph lies in its ability to create a multi-dimensional representation of language, moving beyond traditional linear sequences to encapsulate contextual and semantic nuances.\\n\\nAt its core, LangGraph combines elements of graph neural networks (GNNs) with powerful transformers architectures, facilitating the integration of various linguistic modalities. This hybrid approach allows for a more sophisticated understanding of how words and sentences connect in meaningful ways. Unlike conventional models that primarily operate on sequential data, LangGraph constructs a graph where nodes represent linguistic entities (such as words or phrases), and edges represent the relationships or dependencies between them. This graph structure helps to simulate the complexities of human communication, where meaning is often derived from the interplay of multiple components rather than a single linear trajectory.\\n\\nOne of the primary advantages of LangGraph is its ability to handle various linguistic phenomena, such as polysemy, synonymy, and context dependence. By mapping words not just to their immediate neighbors but also to a broader contextual network, LangGraph can disambiguate meanings based on surrounding information. This characteristic makes it particularly valuable for applications like machine translation, sentiment analysis, and dialogue systems, where the interpretation of language can vary significantly based on context.\\n\\nMoreover, LangGraph incorporates advanced techniques such as attention mechanisms, which allow the model to focus selectively on different parts of the graph when making predictions. This attention to context ensures that the model can prioritize relevant information while filtering out noise, thus improving its performance in tasks requiring nuanced language understanding.\\n\\nThe training process for LangGraph typically involves large-scale datasets that include diverse linguistic inputs. This can encompass anything from social media posts to formal academic texts, providing the model with a rich tapestry of language use. By training on comprehensive data, LangGraph develops a deep understanding of linguistic patterns and relationships, enhancing its ability to generalize to unseen data.\\n\\nIn addition to its technical architecture, LangGraph also emphasizes usability and accessibility for developers. It comes equipped with intuitive interfaces and documentation, enabling practitioners in the fields of computational linguistics, artificial intelligence, and software development to easily implement and adapt it to their specific needs. The model is designed to integrate seamlessly with existing natural language processing (NLP) frameworks, promoting collaboration and innovation within the broader AI community.\\n\\nAs the demand for more sophisticated language processing tools continues to escalate, LangGraph stands out as a promising solution. Its graph-based approach not only aligns closely with the intricacies of human language but also opens new avenues for research and development. Future enhancements may include expanding its capabilities to incorporate multimedia elements, such as visual context or auditory cues, further enriching the model’s understanding of language in its multifaceted forms.\\n\\nIn conclusion, LangGraph represents a significant leap forward in the realm of natural language processing. By harnessing the power of graph theory and advanced neural network architectures, it provides a more nuanced and effective way of understanding and generating human language. As developers and researchers continue to explore its potential, LangGraph is poised to play a crucial role in shaping the future of AI-driven communication technologies.' additional_kwargs={'refusal': None} response_metadata={'token_usage': {'completion_tokens': 654, 'prompt_tokens': 16, 'total_tokens': 670, 'completion_tokens_details': {'accepted_prediction_tokens': 0, 'audio_tokens': 0, 'reasoning_tokens': 0, 'rejected_prediction_tokens': 0}, 'prompt_tokens_details': {'audio_tokens': 0, 'cached_tokens': 0}}, 'model_name': 'gpt-4o-mini-2024-07-18', 'system_fingerprint': 'fp_560af6e559', 'id': 'chatcmpl-CWNfVtjmk1jNPe2LYHKnUTZEN8dW6', 'service_tier': 'default', 'finish_reason': 'stop', 'logprobs': None} id='run--d6fb435c-aac9-4003-a87d-59c9e4772612-0' usage_metadata={'input_tokens': 16, 'output_tokens': 654, 'total_tokens': 670, 'input_token_details': {'audio': 0, 'cache_read': 0}, 'output_token_details': {'audio': 0, 'reasoning': 0}}\n"
     ]
    }
   ],
   "source": [
    "query=\"give me 500 words on langgraph?\"\n",
    "response =cache_model(query)\n",
    "print(response)"
   ]
  },
  {
   "cell_type": "markdown",
   "id": "5083b6b7",
   "metadata": {},
   "source": [
    "### Advanced CAG"
   ]
  },
  {
   "cell_type": "code",
   "execution_count": 10,
   "id": "bf663496",
   "metadata": {},
   "outputs": [],
   "source": [
    "from __future__ import annotations\n",
    "from typing import TypedDict, List, Optional\n",
    "import time\n",
    "\n",
    "# ---- LangGraph / LangChain ----\n",
    "from langgraph.graph import StateGraph, END\n",
    "from langgraph.checkpoint.memory import MemorySaver\n",
    "\n",
    "from langchain_core.documents import Document\n",
    "from langchain_openai import ChatOpenAI\n",
    "from langchain.embeddings import HuggingFaceEmbeddings\n",
    "\n",
    "# ---- FAISS vector stores ----\n",
    "import faiss\n",
    "from langchain_community.vectorstores import FAISS\n",
    "from langchain_community.docstore.in_memory import InMemoryDocstore"
   ]
  },
  {
   "cell_type": "code",
   "execution_count": 11,
   "id": "0bb0e1ef",
   "metadata": {},
   "outputs": [],
   "source": [
    "# ================= CONFIG =================\n",
    "EMBED_MODEL = \"sentence-transformers/all-MiniLM-L6-v2\"  # 384-dim\n",
    "VECTOR_DIM = 384\n",
    "\n",
    "LLM_MODEL = \"gpt-4o-mini\"\n",
    "LLM_TEMPERATURE = 0\n",
    "\n",
    "RETRIEVE_TOP_K = 4\n",
    "CACHE_TOP_K = 3\n",
    "\n",
    "CACHE_DISTANCE_THRESHOLD = 0.45\n",
    "\n",
    "# Optional TTL for cache entries (seconds). 0 = disabled.\n",
    "CACHE_TTL_SEC = 0\n"
   ]
  },
  {
   "cell_type": "code",
   "execution_count": 12,
   "id": "298cde63",
   "metadata": {},
   "outputs": [],
   "source": [
    "# ================= STATE ==================\n",
    "class RAGState(TypedDict):\n",
    "    question: str\n",
    "    normalized_question: str\n",
    "    context_docs: List[Document]\n",
    "    answer: Optional[str]\n",
    "    citations: List[str]\n",
    "    cache_hit: bool"
   ]
  },
  {
   "cell_type": "code",
   "execution_count": 15,
   "id": "55558c9a",
   "metadata": {},
   "outputs": [],
   "source": [
    "# ============== GLOBALS ===================\n",
    "from langchain_huggingface import HuggingFaceEmbeddings\n",
    "EMBED = HuggingFaceEmbeddings(model_name=EMBED_MODEL)"
   ]
  },
  {
   "cell_type": "code",
   "execution_count": 16,
   "id": "e9791f01",
   "metadata": {},
   "outputs": [],
   "source": [
    "# ----- QA CACHE (EMPTY, SAFE INIT) -----\n",
    "qa_index = faiss.IndexFlatL2(VECTOR_DIM)  # distance; lower is better\n",
    "QA_CACHE = FAISS(\n",
    "    embedding_function=EMBED,\n",
    "    index=qa_index,\n",
    "    docstore=InMemoryDocstore({}),\n",
    "    index_to_docstore_id={}\n",
    ")"
   ]
  },
  {
   "cell_type": "code",
   "execution_count": 17,
   "id": "ff36b896",
   "metadata": {},
   "outputs": [
    {
     "data": {
      "text/plain": [
       "<langchain_community.vectorstores.faiss.FAISS at 0x1fe2f6b7440>"
      ]
     },
     "execution_count": 17,
     "metadata": {},
     "output_type": "execute_result"
    }
   ],
   "source": [
    "QA_CACHE"
   ]
  },
  {
   "cell_type": "code",
   "execution_count": 18,
   "id": "080fa22e",
   "metadata": {},
   "outputs": [],
   "source": [
    "# ----- RAG STORE (demo only) -----\n",
    "RAG_STORE = FAISS.from_texts(\n",
    "    texts=[\n",
    "        \"LangGraph lets you compose stateful LLM workflows as graphs.\",\n",
    "        \"In LangGraph, nodes can be cached; node caching memoizes outputs keyed by inputs for a TTL.\",\n",
    "        \"Retrieval-Augmented Generation (RAG) retrieves external context and injects it into prompts.\",\n",
    "        \"Semantic caching reuses prior answers when new questions are semantically similar.\"\n",
    "    ],\n",
    "    embedding=EMBED,\n",
    ")"
   ]
  },
  {
   "cell_type": "code",
   "execution_count": 19,
   "id": "e0cc311a",
   "metadata": {},
   "outputs": [],
   "source": [
    "LLM = ChatOpenAI(model=LLM_MODEL, temperature=LLM_TEMPERATURE)"
   ]
  },
  {
   "cell_type": "code",
   "execution_count": 20,
   "id": "d43f16f6",
   "metadata": {},
   "outputs": [
    {
     "data": {
      "text/plain": [
       "ChatOpenAI(client=<openai.resources.chat.completions.completions.Completions object at 0x000001FE7913E660>, async_client=<openai.resources.chat.completions.completions.AsyncCompletions object at 0x000001FE2F6B6240>, root_client=<openai.OpenAI object at 0x000001FE7913F470>, root_async_client=<openai.AsyncOpenAI object at 0x000001FE7913F3B0>, model_name='gpt-4o-mini', temperature=0.0, model_kwargs={}, openai_api_key=SecretStr('**********'), stream_usage=True)"
      ]
     },
     "execution_count": 20,
     "metadata": {},
     "output_type": "execute_result"
    }
   ],
   "source": [
    "LLM\n"
   ]
  },
  {
   "cell_type": "code",
   "execution_count": 21,
   "id": "997e26d3",
   "metadata": {},
   "outputs": [],
   "source": [
    "# ================ NODES ===================\n",
    "def normalize_query(state: RAGState) -> RAGState:\n",
    "    q = (state[\"question\"] or \"\").strip()\n",
    "    state[\"normalized_question\"] = q.lower()\n",
    "    return state\n",
    "\n",
    "def semantic_cache_lookup(state: RAGState) -> RAGState:\n",
    "    q = state[\"normalized_question\"]\n",
    "    state[\"cache_hit\"] = False  # default\n",
    "\n",
    "    if not q:\n",
    "        return state\n",
    "\n",
    "    # ✅ Guard: FAISS crashes if ntotal == 0 and you ask for k>0\n",
    "    if getattr(QA_CACHE, \"index\", None) is None or QA_CACHE.index.ntotal == 0:\n",
    "        return state\n",
    "\n",
    "    # For FAISS L2 wrapper, this returns (Document, distance) with lower=better\n",
    "    hits = QA_CACHE.similarity_search_with_score(q, k=CACHE_TOP_K)\n",
    "    if not hits:\n",
    "        return state\n",
    "\n",
    "    best_doc, dist = hits[0]\n",
    "\n",
    "    # Optional TTL\n",
    "    if CACHE_TTL_SEC > 0:\n",
    "        ts = best_doc.metadata.get(\"ts\")\n",
    "        if ts is None or (time.time() - float(ts)) > CACHE_TTL_SEC:\n",
    "            return state\n",
    "\n",
    "    # L2 distance gate (lower = more similar)\n",
    "    if dist <= CACHE_DISTANCE_THRESHOLD:\n",
    "        cached_answer = best_doc.metadata.get(\"answer\")\n",
    "        if cached_answer:\n",
    "            state[\"answer\"] = cached_answer\n",
    "            state[\"citations\"] = [\"(cache)\"]\n",
    "            state[\"cache_hit\"] = True\n",
    "\n",
    "    return state\n",
    "\n",
    "def respond_from_cache(state: RAGState) -> RAGState:\n",
    "    return state\n",
    "\n",
    "def retrieve(state: RAGState) -> RAGState:\n",
    "    q = state[\"normalized_question\"]\n",
    "    docs = RAG_STORE.similarity_search(q, k=RETRIEVE_TOP_K)\n",
    "    state[\"context_docs\"] = docs\n",
    "    return state\n",
    "\n",
    "def generate(state: RAGState) -> RAGState:\n",
    "    q = state[\"question\"]\n",
    "    docs = state.get(\"context_docs\", [])\n",
    "    ctx = \"\\n\\n\".join([f\"[doc-{i}] {d.page_content}\" for i, d in enumerate(docs, start=1)])\n",
    "\n",
    "    system = (\n",
    "        \"You are a precise RAG assistant. Use the context when helpful. \"\n",
    "        \"Cite with [doc-i] markers if you use a fact from the context.\"\n",
    "    )\n",
    "    user = f\"Question: {q}\\n\\nContext:\\n{ctx}\\n\\nWrite a concise answer with citations.\"\n",
    "\n",
    "    resp = LLM.invoke([{\"role\": \"system\", \"content\": system},\n",
    "                       {\"role\": \"user\", \"content\": user}])\n",
    "    state[\"answer\"] = resp.content\n",
    "    state[\"citations\"] = [f\"[doc-{i}]\" for i in range(1, len(docs) + 1)]\n",
    "    return state\n",
    "\n",
    "def cache_write(state: RAGState) -> RAGState:\n",
    "    q = state[\"normalized_question\"]\n",
    "    a = state.get(\"answer\")\n",
    "    if not q or not a:\n",
    "        return state\n",
    "\n",
    "    QA_CACHE.add_texts(\n",
    "        texts=[q],\n",
    "        metadatas=[{\n",
    "            \"answer\": a,\n",
    "            \"ts\": time.time(),\n",
    "        }]\n",
    "    )\n",
    "    return state"
   ]
  },
  {
   "cell_type": "code",
   "execution_count": 22,
   "id": "462f44af",
   "metadata": {},
   "outputs": [
    {
     "data": {
      "image/png": "[encoded data removed]",
      "text/plain": [
       "<langgraph.graph.state.CompiledStateGraph object at 0x000001FE2EDF2870>"
      ]
     },
     "execution_count": 22,
     "metadata": {},
     "output_type": "execute_result"
    }
   ],
   "source": [
    "# ============== GRAPH WIRING ==============\n",
    "graph = StateGraph(RAGState)\n",
    "\n",
    "graph.add_node(\"normalize_query\", normalize_query)\n",
    "graph.add_node(\"semantic_cache_lookup\", semantic_cache_lookup)\n",
    "graph.add_node(\"respond_from_cache\", respond_from_cache)\n",
    "graph.add_node(\"retrieve\", retrieve)\n",
    "graph.add_node(\"generate\", generate)\n",
    "graph.add_node(\"cache_write\", cache_write)\n",
    "\n",
    "graph.set_entry_point(\"normalize_query\")\n",
    "graph.add_edge(\"normalize_query\", \"semantic_cache_lookup\")\n",
    "\n",
    "def _branch(state: RAGState) -> str:\n",
    "    return \"respond_from_cache\" if state.get(\"cache_hit\") else \"retrieve\"\n",
    "\n",
    "graph.add_conditional_edges(\n",
    "    \"semantic_cache_lookup\",\n",
    "    _branch,\n",
    "    {\n",
    "        \"respond_from_cache\": \"respond_from_cache\",\n",
    "        \"retrieve\": \"retrieve\"\n",
    "    }\n",
    ")\n",
    "\n",
    "graph.add_edge(\"respond_from_cache\", END)\n",
    "graph.add_edge(\"retrieve\", \"generate\")\n",
    "graph.add_edge(\"generate\", \"cache_write\")\n",
    "graph.add_edge(\"cache_write\", END)\n",
    "\n",
    "memory = MemorySaver()\n",
    "app = graph.compile(checkpointer=memory)\n",
    "app"
   ]
  },
  {
   "cell_type": "code",
   "execution_count": 23,
   "id": "ba9bde2c",
   "metadata": {},
   "outputs": [
    {
     "name": "stdout",
     "output_type": "stream",
     "text": [
      "Answer: LangGraph is a framework that allows users to compose stateful workflows for large language models (LLMs) in the form of graphs, enabling the management of complex interactions and data flows [doc-2]. It also features node caching, which memoizes outputs based on inputs for a specified time-to-live (TTL) [doc-1].\n",
      "Citations: ['[doc-1]', '[doc-2]', '[doc-3]', '[doc-4]']\n",
      "Cache hit?: False\n"
     ]
    }
   ],
   "source": [
    "# ================= DEMO ===================\n",
    "if __name__ == \"__main__\":\n",
    "    thread_cfg = {\"configurable\": {\"thread_id\": \"demo-user-1\"}}\n",
    "\n",
    "    q1 = \"What is LangGraph ?\"\n",
    "    out1 = app.invoke({\"question\": q1, \"context_docs\": [], \"citations\": []}, thread_cfg)\n",
    "    print(\"Answer:\", out1[\"answer\"])\n",
    "    print(\"Citations:\", out1.get(\"citations\"))\n",
    "    print(\"Cache hit?:\", out1.get(\"cache_hit\"))"
   ]
  },
  {
   "cell_type": "code",
   "execution_count": 24,
   "id": "2039bde5",
   "metadata": {},
   "outputs": [
    {
     "name": "stdout",
     "output_type": "stream",
     "text": [
      "Answer: LangGraph is a framework that allows users to compose stateful workflows for large language models (LLMs) in the form of graphs, enabling the management of complex interactions and data flows [doc-2]. It also features node caching, which memoizes outputs based on inputs for a specified time-to-live (TTL) [doc-1].\n",
      "Citations: ['(cache)']\n",
      "Cache hit?: True\n"
     ]
    }
   ],
   "source": [
    "q1 = \"Explain about LangGraph ?\"\n",
    "out1 = app.invoke({\"question\": q1, \"context_docs\": [], \"citations\": []}, thread_cfg)\n",
    "print(\"Answer:\", out1[\"answer\"])\n",
    "print(\"Citations:\", out1.get(\"citations\"))\n",
    "print(\"Cache hit?:\", out1.get(\"cache_hit\"))"
   ]
  },
  {
   "cell_type": "code",
   "execution_count": 25,
   "id": "1c8d9021",
   "metadata": {},
   "outputs": [
    {
     "name": "stdout",
     "output_type": "stream",
     "text": [
      "Answer: LangGraph agents are part of a framework that allows users to compose stateful workflows using large language models (LLMs) structured as graphs [doc-2]. These agents can utilize features like node caching, which memoizes outputs based on inputs for a specified time-to-live (TTL) [doc-1]. Additionally, they can leverage semantic caching to reuse previous answers when new questions are semantically similar, enhancing efficiency [doc-4]. This approach aligns with Retrieval-Augmented Generation (RAG), which retrieves external context to enrich prompts [doc-3].\n",
      "Citations: ['[doc-1]', '[doc-2]', '[doc-3]', '[doc-4]']\n",
      "Cache hit?: False\n"
     ]
    }
   ],
   "source": [
    "q1 = \"Explain about LangGraph agents ?\"\n",
    "out1 = app.invoke({\"question\": q1, \"context_docs\": [], \"citations\": []}, thread_cfg)\n",
    "print(\"Answer:\", out1[\"answer\"])\n",
    "print(\"Citations:\", out1.get(\"citations\"))\n",
    "print(\"Cache hit?:\", out1.get(\"cache_hit\"))"
   ]
  },
  {
   "cell_type": "code",
   "execution_count": 26,
   "id": "d890c065",
   "metadata": {},
   "outputs": [
    {
     "name": "stdout",
     "output_type": "stream",
     "text": [
      "Answer: LangGraph agents are part of a framework that allows users to compose stateful workflows using large language models (LLMs) structured as graphs [doc-2]. These agents can utilize features like node caching, which memoizes outputs based on inputs for a specified time-to-live (TTL) [doc-1]. Additionally, they can leverage semantic caching to reuse previous answers when new questions are semantically similar, enhancing efficiency [doc-4]. This approach aligns with Retrieval-Augmented Generation (RAG), which retrieves external context to enrich prompts [doc-3].\n",
      "Citations: ['(cache)']\n",
      "Cache hit?: True\n"
     ]
    }
   ],
   "source": [
    "q1 = \"Explain about agents in Langgraph ?\"\n",
    "out1 = app.invoke({\"question\": q1, \"context_docs\": [], \"citations\": []}, thread_cfg)\n",
    "print(\"Answer:\", out1[\"answer\"])\n",
    "print(\"Citations:\", out1.get(\"citations\"))\n",
    "print(\"Cache hit?:\", out1.get(\"cache_hit\"))"
   ]
  },
  {
   "cell_type": "code",
   "execution_count": null,
   "id": "0029eefe",
   "metadata": {},
   "outputs": [],
   "source": []
  },
  {
   "cell_type": "code",
   "execution_count": null,
   "id": "8c0ca872",
   "metadata": {},
   "outputs": [],
   "source": []
  }
 ],
 "metadata": {
  "kernelspec": {
   "display_name": "Python 3",
   "language": "python",
   "name": "python3"
  },
  "language_info": {
   "codemirror_mode": {
    "name": "ipython",
    "version": 3
   },
   "file_extension": ".py",
   "mimetype": "text/x-python",
   "name": "python",
   "nbconvert_exporter": "python",
   "pygments_lexer": "ipython3",
   "version": "3.12.0"
  }
 },
 "nbformat": 4,
 "nbformat_minor": 5
}
